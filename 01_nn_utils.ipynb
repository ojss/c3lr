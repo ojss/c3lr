{
 "cells": [
  {
   "cell_type": "code",
   "execution_count": null,
   "id": "7479352a-5336-4a3f-be6d-01f36130758f",
   "metadata": {},
   "outputs": [],
   "source": [
    "#default_exp nn_utils\n",
    "#export\n",
    "\n",
    "import torchvision\n",
    "import torch\n",
    "import torch.nn as nn\n",
    "import torch.nn.functional as F\n",
    "\n",
    "import numpy as np\n",
    "import matplotlib.pyplot as plt"
   ]
  },
  {
   "cell_type": "code",
   "execution_count": null,
   "id": "60914574-0395-499b-ab2a-82d9d616654b",
   "metadata": {},
   "outputs": [],
   "source": [
    "#export\n",
    "def c_imshow(img):\n",
    "    npimg = img.numpy()\n",
    "    plt.imshow(np.transpose(npimg, (1, 2, 0)))\n",
    "    plt.show()"
   ]
  },
  {
   "cell_type": "code",
   "execution_count": null,
   "id": "8bede3ef-051f-4a34-98c2-35232567c21e",
   "metadata": {},
   "outputs": [],
   "source": [
    "#export nn_utils\n",
    "\n",
    "class Flatten(nn.Module):\n",
    "    def __init__(self):\n",
    "        super(Flatten, self).__init__()\n",
    "    def forward(self, x):\n",
    "        return x.view(x.shape[0], -1)"
   ]
  },
  {
   "cell_type": "code",
   "execution_count": null,
   "id": "b9bb10ac-d9a2-45f4-898c-23ad992305af",
   "metadata": {},
   "outputs": [],
   "source": [
    "#export \n",
    "\n",
    "def conv3x3(in_channels, out_channels, **kwargs):\n",
    "    return nn.Sequential(\n",
    "        nn.Conv2d(in_channels, out_channels, kernel_size=3, padding=1, **kwargs),\n",
    "        nn.BatchNorm2d(out_channels),\n",
    "        nn.ReLU(),\n",
    "        nn.MaxPool2d(2)\n",
    "    )"
   ]
  },
  {
   "cell_type": "code",
   "execution_count": null,
   "id": "0eef26c3-492e-42c1-8ba8-c4702f0d3c53",
   "metadata": {},
   "outputs": [],
   "source": [
    "#export nn_utils\n",
    "\n",
    "def get_proto_accuracy(prototypes, embeddings, targets):\n",
    "    \"\"\"Compute the accuracy of the prototypical network on the test/query points.\n",
    "    Parameters\n",
    "    ----------\n",
    "    prototypes : `torch.FloatTensor` instance\n",
    "        A tensor containing the prototypes for each class. This tensor has shape \n",
    "        `(meta_batch_size, num_classes, embedding_size)`.\n",
    "    embeddings : `torch.FloatTensor` instance\n",
    "        A tensor containing the embeddings of the query points. This tensor has \n",
    "        shape `(meta_batch_size, num_examples, embedding_size)`.\n",
    "    targets : `torch.LongTensor` instance\n",
    "        A tensor containing the targets of the query points. This tensor has \n",
    "        shape `(meta_batch_size, num_examples)`.\n",
    "    Returns\n",
    "    -------\n",
    "    accuracy : `torch.FloatTensor` instance\n",
    "        Mean accuracy on the query points.\n",
    "    \"\"\"\n",
    "    sq_distances = torch.sum((prototypes.unsqueeze(1)\n",
    "        - embeddings.unsqueeze(2)) ** 2, dim=-1)\n",
    "    _, predictions = torch.min(sq_distances, dim=-1)\n",
    "    return torch.mean(predictions.eq(targets).float())"
   ]
  },
  {
   "cell_type": "code",
   "execution_count": null,
   "id": "84a8cdd5-36dc-4f7f-bf49-d2861fcfcfe8",
   "metadata": {},
   "outputs": [],
   "source": [
    "#export\n",
    "def get_accuracy(logits, targets):\n",
    "    \"\"\"Compute the accuracy (after adaptation) of MAML on the test/query points\n",
    "    Parameters\n",
    "    ----------\n",
    "    logits : `torch.FloatTensor` instance\n",
    "        Outputs/logits of the model on the query points. This tensor has shape\n",
    "        `(num_examples, num_classes)`.\n",
    "    targets : `torch.LongTensor` instance\n",
    "        A tensor containing the targets of the query points. This tensor has\n",
    "        shape `(num_examples,)`.\n",
    "    Returns\n",
    "    -------\n",
    "    accuracy : `torch.FloatTensor` instance\n",
    "        Mean accuracy on the query points\n",
    "    \"\"\"\n",
    "    _, predictions = torch.max(logits, dim=-1)\n",
    "    return torch.mean(predictions.eq(targets).float())"
   ]
  },
  {
   "cell_type": "code",
   "execution_count": null,
   "id": "f6dee552-abcb-467a-9cf0-b1899d2bb042",
   "metadata": {},
   "outputs": [
    {
     "name": "stdout",
     "output_type": "stream",
     "text": [
      "Converted 01_nn_utils.ipynb.\n",
      "Converted 01b_data_loaders_pl.ipynb.\n",
      "Converted 01c_grad_utils.ipynb.\n",
      "Converted 01d_hessian_free.ipynb.\n",
      "Converted 02_maml_pl.ipynb.\n",
      "Converted 02b_iMAML.ipynb.\n",
      "Converted 03_protonet_pl.ipynb.\n",
      "Converted 04_cactus.ipynb.\n",
      "Converted index.ipynb.\n"
     ]
    }
   ],
   "source": [
    "from nbdev.export import notebook2script; notebook2script()"
   ]
  },
  {
   "cell_type": "code",
   "execution_count": null,
   "id": "57d49dd6-7b36-42d4-9d27-1c3a84b4bd87",
   "metadata": {},
   "outputs": [],
   "source": []
  }
 ],
 "metadata": {
  "kernelspec": {
   "display_name": "Python 3",
   "language": "python",
   "name": "python3"
  }
 },
 "nbformat": 4,
 "nbformat_minor": 5
}
