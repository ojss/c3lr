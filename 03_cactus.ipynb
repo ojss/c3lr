{
 "cells": [
  {
   "cell_type": "code",
   "execution_count": null,
   "id": "c3d19a75-2afa-4032-9602-28f5cae9f7b4",
   "metadata": {},
   "outputs": [],
   "source": [
    "#default_exp cactus\n",
    "#export\n",
    "from torchmeta.datasets.helpers import miniimagenet, omniglot\n",
    "from torchmeta.utils.data import BatchMetaDataLoader\n",
    "from torchmeta.utils.gradient_based import gradient_update_parameters\n",
    "from torchmeta.modules import MetaModule, MetaSequential, MetaConv2d, MetaBatchNorm2d, MetaLinear\n",
    "\n",
    "import kornia as K\n",
    "import higher\n",
    "\n",
    "import numpy as np\n",
    "import matplotlib.pyplot as plt\n",
    "import torchvision\n",
    "import torch\n",
    "import torch.nn as nn\n",
    "import torch.nn.functional as F\n",
    "import torchnet\n",
    "import tqdm\n",
    "\n",
    "from collections import OrderedDict\n",
    "from copy import deepcopy\n",
    "\n",
    "from unsupervised_meta_learning.nn_utils import Flatten"
   ]
  },
  {
   "cell_type": "code",
   "execution_count": null,
   "id": "fb0e63c2-0db6-4168-865f-86641d781a32",
   "metadata": {},
   "outputs": [],
   "source": [
    "%load_ext autoreload\n",
    "%matplotlib inline\n",
    "%autoreload 2"
   ]
  },
  {
   "cell_type": "code",
   "execution_count": null,
   "id": "794058bf-0aa8-4b26-b3fe-29de9dadcb54",
   "metadata": {},
   "outputs": [],
   "source": [
    "#export\n",
    "\n",
    "def conv_block(in_channels, out_channels):\n",
    "    return nn.Sequential(\n",
    "        nn.Conv2d(in_channels, out_channels, 3, padding=1),\n",
    "        nn.BatchNorm2d(out_channels),\n",
    "        nn.ReLU(),\n",
    "        nn.MaxPool2d(2)\n",
    "    )"
   ]
  },
  {
   "cell_type": "code",
   "execution_count": null,
   "id": "d284abea-4eb9-4bbc-a3e9-c4b40758187d",
   "metadata": {},
   "outputs": [],
   "source": [
    "#export\n",
    "\n",
    "class ProtoNet(nn.Module):\n",
    "    def __init__(self, encoder=None, **kwargs):\n",
    "        super().__init__()\n",
    "        self.encoder = encoder\n",
    "        if encoder is None:\n",
    "            x_dim = kwargs['x_dim']\n",
    "            hid_dim = kwargs['hid_dim']\n",
    "            self.encoder = nn.Sequential(\n",
    "                conv_block(x_dim, hid_dim),\n",
    "                conv_block(hid_dim, hid_dim),\n",
    "                conv_block(hid_dim, hid_dim),\n",
    "                conv_block(hid_dim, hid_dim),\n",
    "                Flatten()\n",
    "            )\n",
    "        \n",
    "    def loss(self, sample):\n",
    "        xs = sample['train']\n",
    "        xq = sample['test']\n",
    "\n",
    "        # might have to change this bit to catch the correct shapes and sizes\n",
    "        n_class = xs.shape[0]\n",
    "        n_support = xs.shape[1]\n",
    "        n_query = xq.shape[1]\n",
    "        \n",
    "        target_inds = torch.arange(0, n_class).view(n_class, 1, 1).expand(n_class, n_query, 1).long()\n",
    "        \n",
    "        if xq.is_cuda:\n",
    "            target_inds = target_inds.to('cuda')\n",
    "            \n",
    "        x = torch.cat([\n",
    "            xs.view(n_class * n_support, *xs.size()[2:] ),\n",
    "            xq.view(n_class * n_query, *xq.size()[2:])\n",
    "        ], 0)\n",
    "        \n",
    "        z = self.encoder(x)\n",
    "        z_dim = z.size(-1)\n",
    "        \n",
    "        z_proto = z[:n_class * n_support].view(n_class, n_support, z_dim).long()\n",
    "        zq = z[n_class * n_support:]\n",
    "        \n",
    "        dists = torch.cdist(zq, z_proto)\n",
    "        \n",
    "        log_p_y: torch.tensor = F.log_softmax(-dists, dim=1).view(n_class, n_query, -1)\n",
    "        \n",
    "        loss_val = -log_p_y.gather(2, target_inds).squeeze().view(-1).mean()\n",
    "        \n",
    "        _, y_hat = log_p_y.max(2)\n",
    "        \n",
    "        acc_val = torch.eq(y_hat, target_inds.squeeze()).float().mean()\n",
    "        \n",
    "        return loss_val, {\n",
    "            'loss': loss_val.item()\n",
    "            'acc': acc_val.item()\n",
    "        }\n",
    "        \n",
    "        "
   ]
  },
  {
   "cell_type": "code",
   "execution_count": null,
   "id": "1806f9d1-7d39-4e28-b3ba-8f08031881b0",
   "metadata": {},
   "outputs": [
    {
     "name": "stdout",
     "output_type": "stream",
     "text": [
      "Converted 01_nn_utils.ipynb.\n",
      "Converted 02_maml.ipynb.\n",
      "Converted 03_cactus.ipynb.\n",
      "Converted index.ipynb.\n"
     ]
    }
   ],
   "source": [
    "from nbdev.export import notebook2script; notebook2script()"
   ]
  },
  {
   "cell_type": "code",
   "execution_count": null,
   "id": "92874adc-faf4-4d40-9c47-e82d0c378219",
   "metadata": {},
   "outputs": [],
   "source": []
  }
 ],
 "metadata": {
  "kernelspec": {
   "display_name": "Python 3",
   "language": "python",
   "name": "python3"
  }
 },
 "nbformat": 4,
 "nbformat_minor": 5
}
