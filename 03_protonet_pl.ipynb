{
 "cells": [
  {
   "cell_type": "code",
   "execution_count": null,
   "id": "b519cf29-3554-4e30-8167-5fc1d51eafc2",
   "metadata": {},
   "outputs": [],
   "source": [
    "#default_exp protonets\n",
    "#export\n",
    "import warnings\n",
    "\n",
    "import wandb\n",
    "\n",
    "import numpy as np\n",
    "import matplotlib.pyplot as plt\n",
    "import torch\n",
    "import torch.nn as nn\n",
    "import torch.nn.functional as F\n",
    "import torchvision\n",
    "\n",
    "import pytorch_lightning as pl\n",
    "from pytorch_lightning.loggers import WandbLogger\n",
    "\n",
    "from unsupervised_meta_learning.nn_utils import Flatten, get_proto_accuracy, conv3x3\n",
    "from unsupervised_meta_learning.pl_dataloaders import OmniglotDataModule"
   ]
  },
  {
   "cell_type": "code",
   "execution_count": null,
   "id": "1563b0fe-fbaf-4c6c-a981-327f99c785e0",
   "metadata": {},
   "outputs": [],
   "source": [
    "%load_ext autoreload\n",
    "%matplotlib inline\n",
    "%autoreload 2"
   ]
  },
  {
   "cell_type": "code",
   "execution_count": null,
   "id": "9ce2c4fe-219f-4871-a013-620f6a304571",
   "metadata": {},
   "outputs": [],
   "source": [
    "#export\n",
    "class PrototypicalNetwork(nn.Module):\n",
    "    def __init__(self, in_channels, out_channels, hidden_size=64):\n",
    "        super(PrototypicalNetwork, self).__init__()\n",
    "        self.in_channels = in_channels\n",
    "        self.out_channels = out_channels\n",
    "        self.hidden_size = hidden_size\n",
    "\n",
    "        self.encoder = nn.Sequential(\n",
    "            conv3x3(in_channels, hidden_size),\n",
    "            conv3x3(hidden_size, hidden_size),\n",
    "            conv3x3(hidden_size, hidden_size),\n",
    "            conv3x3(hidden_size, out_channels)\n",
    "        )\n",
    "    \n",
    "    def forward(self, inputs):\n",
    "        embeddings = self.encoder(inputs.view(-1, *inputs.shape[2:]))\n",
    "        return embeddings.view(*inputs.shape[:2], -1)"
   ]
  },
  {
   "cell_type": "code",
   "execution_count": null,
   "id": "cccfdc14-2c17-4a73-b469-f4b082ec16e8",
   "metadata": {},
   "outputs": [],
   "source": [
    "#export\n",
    "class ProtoModule(pl.LightningModule):\n",
    "    def __init__(self, encoder, num_classes, **kwargs):\n",
    "        super().__init__()\n",
    "        self.model = encoder\n",
    "        self.automatic_optimization = True\n",
    "        self.num_classes_per_task = num_classes\n",
    "        self.acccuracy = get_proto_accuracy\n",
    "    \n",
    "    def forward(self, x):\n",
    "        return self.model(x)\n",
    "    \n",
    "    def get_prototypes(self, emb, targets, num_classes):\n",
    "        \"\"\"Compute the prototypes (the mean vector of the embedded training/support \n",
    "        points belonging to its class) for each classes in the task.\n",
    "        Parameters\n",
    "        ----------\n",
    "        embeddings : `torch.FloatTensor` instance\n",
    "            A tensor containing the embeddings of the support points. This tensor \n",
    "            has shape `(batch_size, num_examples, embedding_size)`.\n",
    "        targets : `torch.LongTensor` instance\n",
    "            A tensor containing the targets of the support points. This tensor has \n",
    "            shape `(batch_size, num_examples)`.\n",
    "        num_classes : int\n",
    "            Number of classes in the task.\n",
    "        Returns\n",
    "        -------\n",
    "        prototypes : `torch.FloatTensor` instance\n",
    "            A tensor containing the prototypes for each class. This tensor has shape\n",
    "            `(batch_size, num_classes, embedding_size)`.\n",
    "        \"\"\"\n",
    "\n",
    "        batch_size, emb_size = emb.size(0), emb.size(-1)\n",
    "\n",
    "        num_samples = self.get_num_samples(targets, num_classes, dtype=emb.dtype)\n",
    "        num_samples.unsqueeze_(-1)\n",
    "        num_samples = torch.max(num_samples, torch.ones_like(num_samples))\n",
    "\n",
    "        prototypes = emb.new_zeros((batch_size, num_classes, emb_size))\n",
    "        indices = targets.unsqueeze(-1).expand_as(emb)\n",
    "\n",
    "        prototypes.scatter_add_(1, indices, emb).div_(num_samples)\n",
    "\n",
    "        return prototypes\n",
    "    \n",
    "    def get_num_samples(self, targets, num_classes, dtype=None):\n",
    "        batch_size = targets.size(0)\n",
    "        with torch.no_grad():\n",
    "            ones = torch.ones_like(targets, dtype=dtype)\n",
    "            num_samples = ones.new_zeros((batch_size, num_classes))\n",
    "            num_samples.scatter_add_(1, targets, ones)\n",
    "        return num_samples\n",
    "    \n",
    "    def protoypical_loss(self, prototypes, emb, targets, **kwargs):\n",
    "        \"\"\"Compute the loss (i.e. negative log-likelihood) for the prototypical \n",
    "        network, on the test/query points.\n",
    "        Parameters\n",
    "        ----------\n",
    "        prototypes : `torch.FloatTensor` instance\n",
    "            A tensor containing the prototypes for each class. This tensor has shape \n",
    "            `(batch_size, num_classes, embedding_size)`.\n",
    "        embeddings : `torch.FloatTensor` instance\n",
    "            A tensor containing the embeddings of the query points. This tensor has \n",
    "            shape `(batch_size, num_examples, embedding_size)`.\n",
    "        targets : `torch.LongTensor` instance\n",
    "            A tensor containing the targets of the query points. This tensor has \n",
    "            shape `(batch_size, num_examples)`.\n",
    "        Returns\n",
    "        -------\n",
    "        loss : `torch.FloatTensor` instance\n",
    "            The negative log-likelihood on the query points.\n",
    "        \"\"\"\n",
    "        squared_distances = torch.sum(\n",
    "            (prototypes.unsqueeze(2) - emb.unsqueeze(1)) ** 2, dim = -1\n",
    "        )\n",
    "        return F.cross_entropy(-squared_distances, targets, **kwargs)\n",
    "        \n",
    "    \n",
    "    def configure_optimizers(self):\n",
    "        optim = torch.optim.Adam(self.parameters(), lr=1e-3)\n",
    "        return optim\n",
    "    \n",
    "    def training_step(self, batch, batch_idx):\n",
    "        train_inputs, train_targets = batch['train']\n",
    "        train_inputs, train_targets = train_inputs.to(self.device), train_targets.to(self.device)\n",
    "        test_inputs, test_targets = batch['test']\n",
    "        test_inputs, test_targets = test_inputs.to(self.device), test_targets.to(self.device)\n",
    "        \n",
    "        optimizer = self.optimizers()\n",
    "        \n",
    "        self.model.zero_grad()\n",
    "        \n",
    "        train_emb = self.model(train_inputs)\n",
    "        test_emb = self.model(test_inputs)\n",
    "        \n",
    "        prototypes = self.get_prototypes(train_emb, train_targets, self.num_classes_per_task)\n",
    "        loss = self.protoypical_loss(prototypes, train_emb, train_targets)\n",
    "        \n",
    "        with torch.no_grad():\n",
    "            acc = get_proto_accuracy(prototypes, test_emb, test_targets)\n",
    "        \n",
    "#         loss.backward()\n",
    "#         optimizer.zero_grad()\n",
    "#         self.manual_backward(loss, optimizer)\n",
    "#         optimizer.step()\n",
    "        \n",
    "        self.log_dict({\n",
    "            \"loss\": loss.item(),\n",
    "            \"accuracy\": acc.item()\n",
    "        }, prog_bar=True)\n",
    "        return loss\n",
    "        \n",
    "        "
   ]
  },
  {
   "cell_type": "code",
   "execution_count": null,
   "id": "14e577f7-5ead-4a1d-9060-664dc2c32cd7",
   "metadata": {},
   "outputs": [],
   "source": [
    "model = ProtoModule(encoder=PrototypicalNetwork(1, 64, hidden_size=64), num_classes=5)"
   ]
  },
  {
   "cell_type": "code",
   "execution_count": null,
   "id": "e4908284-7586-4126-bba5-f12826312d92",
   "metadata": {},
   "outputs": [],
   "source": [
    "dm = OmniglotDataModule(\n",
    "        \"data\",\n",
    "        shots=5,\n",
    "        ways=5,\n",
    "        shuffle_ds=True,\n",
    "        test_shots=15,\n",
    "        meta_train=True,\n",
    "        download=True,\n",
    "        batch_size=16,\n",
    "        shuffle=True,\n",
    "        num_workers=8,\n",
    ")"
   ]
  },
  {
   "cell_type": "code",
   "execution_count": null,
   "id": "3404973a-a624-4052-a057-4a9644bb94df",
   "metadata": {},
   "outputs": [
    {
     "name": "stderr",
     "output_type": "stream",
     "text": [
      "GPU available: True, used: True\n",
      "TPU available: False, using: 0 TPU cores\n"
     ]
    }
   ],
   "source": [
    "logger = WandbLogger(\n",
    "    project='protonet',\n",
    "    config={\n",
    "        'batch_size': 16,\n",
    "        'steps': 100,\n",
    "        'dataset': \"omniglot\"\n",
    "    }\n",
    ")\n",
    "trainer = pl.Trainer(\n",
    "        profiler='simple',\n",
    "        max_epochs=100,\n",
    "        max_steps=100,\n",
    "        fast_dev_run=False,\n",
    "        num_sanity_val_steps=2, gpus=1, logger=logger\n",
    "    )"
   ]
  },
  {
   "cell_type": "code",
   "execution_count": null,
   "id": "8d662017-8c87-4b56-9987-5718c81ebbd5",
   "metadata": {},
   "outputs": [
    {
     "name": "stderr",
     "output_type": "stream",
     "text": [
      "LOCAL_RANK: 0 - CUDA_VISIBLE_DEVICES: [0]\n",
      "\u001b[34m\u001b[1mwandb\u001b[0m: Currently logged in as: \u001b[33mp0int\u001b[0m (use `wandb login --relogin` to force relogin)\n"
     ]
    },
    {
     "data": {
      "text/html": [
       "\n",
       "                Tracking run with wandb version 0.10.31<br/>\n",
       "                Syncing run <strong style=\"color:#cdcd00\">fine-wind-2</strong> to <a href=\"https://wandb.ai\" target=\"_blank\">Weights & Biases</a> <a href=\"https://docs.wandb.com/integrations/jupyter.html\" target=\"_blank\">(Documentation)</a>.<br/>\n",
       "                Project page: <a href=\"https://wandb.ai/p0int/protonet\" target=\"_blank\">https://wandb.ai/p0int/protonet</a><br/>\n",
       "                Run page: <a href=\"https://wandb.ai/p0int/protonet/runs/1hlva7mv\" target=\"_blank\">https://wandb.ai/p0int/protonet/runs/1hlva7mv</a><br/>\n",
       "                Run data is saved locally in <code>/home/ojass/Projects/meta-learning/wandb/run-20210605_164213-1hlva7mv</code><br/><br/>\n",
       "            "
      ],
      "text/plain": [
       "<IPython.core.display.HTML object>"
      ]
     },
     "metadata": {},
     "output_type": "display_data"
    },
    {
     "name": "stderr",
     "output_type": "stream",
     "text": [
      "\n",
      "  | Name  | Type                | Params\n",
      "----------------------------------------------\n",
      "0 | model | PrototypicalNetwork | 111 K \n",
      "----------------------------------------------\n",
      "111 K     Trainable params\n",
      "0         Non-trainable params\n",
      "111 K     Total params\n",
      "0.448     Total estimated model params size (MB)\n"
     ]
    },
    {
     "data": {
      "application/vnd.jupyter.widget-view+json": {
       "model_id": "da7745583e4e49249aa0683bd86eaf3c",
       "version_major": 2,
       "version_minor": 0
      },
      "text/plain": [
       "Training: 0it [00:00, ?it/s]"
      ]
     },
     "metadata": {},
     "output_type": "display_data"
    },
    {
     "name": "stderr",
     "output_type": "stream",
     "text": [
      "FIT Profiler Report\n",
      "\n",
      "Action                             \t|  Mean duration (s)\t|Num calls      \t|  Total time (s) \t|  Percentage %   \t|\n",
      "--------------------------------------------------------------------------------------------------------------------------------------\n",
      "Total                              \t|  -              \t|_              \t|  26.957         \t|  100 %          \t|\n",
      "--------------------------------------------------------------------------------------------------------------------------------------\n",
      "run_training_epoch                 \t|  8.9848         \t|1              \t|  8.9848         \t|  33.33          \t|\n",
      "run_training_batch                 \t|  0.041832       \t|100            \t|  4.1832         \t|  15.518         \t|\n",
      "get_train_batch                    \t|  0.039948       \t|100            \t|  3.9948         \t|  14.819         \t|\n",
      "optimizer_step_and_closure_0       \t|  0.033977       \t|100            \t|  3.3977         \t|  12.604         \t|\n",
      "training_step_and_backward         \t|  0.032113       \t|100            \t|  3.2113         \t|  11.913         \t|\n",
      "model_forward                      \t|  0.028906       \t|100            \t|  2.8906         \t|  10.723         \t|\n",
      "training_step                      \t|  0.028595       \t|100            \t|  2.8595         \t|  10.608         \t|\n",
      "backward                           \t|  0.0026443      \t|100            \t|  0.26443        \t|  0.98093        \t|\n",
      "on_train_batch_end                 \t|  0.0016355      \t|100            \t|  0.16355        \t|  0.60669        \t|\n",
      "on_train_start                     \t|  0.017438       \t|1              \t|  0.017438       \t|  0.064689       \t|\n",
      "cache_result                       \t|  2.267e-05      \t|408            \t|  0.0092493      \t|  0.034311       \t|\n",
      "on_batch_start                     \t|  2.6718e-05     \t|100            \t|  0.0026718      \t|  0.0099115      \t|\n",
      "on_after_backward                  \t|  2.6072e-05     \t|100            \t|  0.0026072      \t|  0.0096716      \t|\n",
      "on_train_epoch_start               \t|  0.0019827      \t|1              \t|  0.0019827      \t|  0.0073549      \t|\n",
      "on_batch_end                       \t|  1.7566e-05     \t|100            \t|  0.0017566      \t|  0.0065164      \t|\n",
      "on_before_zero_grad                \t|  1.7103e-05     \t|100            \t|  0.0017103      \t|  0.0063445      \t|\n",
      "on_train_batch_start               \t|  1.5531e-05     \t|100            \t|  0.0015531      \t|  0.0057615      \t|\n",
      "training_step_end                  \t|  1.4112e-05     \t|100            \t|  0.0014112      \t|  0.0052351      \t|\n",
      "on_train_end                       \t|  0.0011944      \t|1              \t|  0.0011944      \t|  0.0044308      \t|\n",
      "on_train_epoch_end                 \t|  0.00032849     \t|1              \t|  0.00032849     \t|  0.0012186      \t|\n",
      "on_fit_start                       \t|  1.7825e-05     \t|1              \t|  1.7825e-05     \t|  6.6124e-05     \t|\n",
      "on_epoch_start                     \t|  1.7502e-05     \t|1              \t|  1.7502e-05     \t|  6.4926e-05     \t|\n",
      "on_epoch_end                       \t|  1.4961e-05     \t|1              \t|  1.4961e-05     \t|  5.55e-05       \t|\n",
      "on_train_dataloader                \t|  1.3044e-05     \t|1              \t|  1.3044e-05     \t|  4.8388e-05     \t|\n",
      "on_before_accelerator_backend_setup\t|  7.085e-06      \t|1              \t|  7.085e-06      \t|  2.6283e-05     \t|\n",
      "\n"
     ]
    }
   ],
   "source": [
    "with warnings.catch_warnings():\n",
    "    warnings.simplefilter(\"ignore\")\n",
    "    trainer.fit(model, datamodule=dm)"
   ]
  },
  {
   "cell_type": "code",
   "execution_count": null,
   "id": "f4da3c00-9d8b-4c9a-957b-0fa2b9e2e41e",
   "metadata": {},
   "outputs": [
    {
     "data": {
      "text/html": [
       "<br/>Waiting for W&B process to finish, PID 71505<br/>Program ended successfully."
      ],
      "text/plain": [
       "<IPython.core.display.HTML object>"
      ]
     },
     "metadata": {},
     "output_type": "display_data"
    },
    {
     "data": {
      "application/vnd.jupyter.widget-view+json": {
       "model_id": "",
       "version_major": 2,
       "version_minor": 0
      },
      "text/plain": [
       "VBox(children=(Label(value=' 0.00MB of 0.00MB uploaded (0.00MB deduped)\\r'), FloatProgress(value=1.0, max=1.0)…"
      ]
     },
     "metadata": {},
     "output_type": "display_data"
    },
    {
     "data": {
      "text/html": [
       "Find user logs for this run at: <code>/home/ojass/Projects/meta-learning/wandb/run-20210605_164213-1hlva7mv/logs/debug.log</code>"
      ],
      "text/plain": [
       "<IPython.core.display.HTML object>"
      ]
     },
     "metadata": {},
     "output_type": "display_data"
    },
    {
     "data": {
      "text/html": [
       "Find internal logs for this run at: <code>/home/ojass/Projects/meta-learning/wandb/run-20210605_164213-1hlva7mv/logs/debug-internal.log</code>"
      ],
      "text/plain": [
       "<IPython.core.display.HTML object>"
      ]
     },
     "metadata": {},
     "output_type": "display_data"
    },
    {
     "data": {
      "text/html": [
       "<h3>Run summary:</h3><br/><style>\n",
       "    table.wandb td:nth-child(1) { padding: 0 10px; text-align: right }\n",
       "    </style><table class=\"wandb\">\n",
       "<tr><td>loss</td><td>0.00538</td></tr><tr><td>accuracy</td><td>0.95917</td></tr><tr><td>epoch</td><td>0</td></tr><tr><td>trainer/global_step</td><td>99</td></tr><tr><td>_runtime</td><td>12</td></tr><tr><td>_timestamp</td><td>1622904145</td></tr><tr><td>_step</td><td>1</td></tr></table>"
      ],
      "text/plain": [
       "<IPython.core.display.HTML object>"
      ]
     },
     "metadata": {},
     "output_type": "display_data"
    },
    {
     "data": {
      "text/html": [
       "<h3>Run history:</h3><br/><style>\n",
       "    table.wandb td:nth-child(1) { padding: 0 10px; text-align: right }\n",
       "    </style><table class=\"wandb\">\n",
       "<tr><td>loss</td><td>█▁</td></tr><tr><td>accuracy</td><td>▁█</td></tr><tr><td>epoch</td><td>▁▁</td></tr><tr><td>trainer/global_step</td><td>▁█</td></tr><tr><td>_runtime</td><td>▁█</td></tr><tr><td>_timestamp</td><td>▁█</td></tr><tr><td>_step</td><td>▁█</td></tr></table><br/>"
      ],
      "text/plain": [
       "<IPython.core.display.HTML object>"
      ]
     },
     "metadata": {},
     "output_type": "display_data"
    },
    {
     "data": {
      "text/html": [
       "Synced 6 W&B file(s), 0 media file(s), 0 artifact file(s) and 1 other file(s)"
      ],
      "text/plain": [
       "<IPython.core.display.HTML object>"
      ]
     },
     "metadata": {},
     "output_type": "display_data"
    },
    {
     "data": {
      "text/html": [
       "\n",
       "                    <br/>Synced <strong style=\"color:#cdcd00\">fine-wind-2</strong>: <a href=\"https://wandb.ai/p0int/protonet/runs/1hlva7mv\" target=\"_blank\">https://wandb.ai/p0int/protonet/runs/1hlva7mv</a><br/>\n",
       "                "
      ],
      "text/plain": [
       "<IPython.core.display.HTML object>"
      ]
     },
     "metadata": {},
     "output_type": "display_data"
    }
   ],
   "source": [
    "wandb.finish()"
   ]
  },
  {
   "cell_type": "code",
   "execution_count": null,
   "id": "26d30180-5b96-47d8-bfaa-3bc4cc482e24",
   "metadata": {},
   "outputs": [
    {
     "name": "stdout",
     "output_type": "stream",
     "text": [
      "Converted 01_nn_utils.ipynb.\n",
      "Converted 01b_data_loaders_pl.ipynb.\n",
      "Converted 02_maml_pl.ipynb.\n",
      "Converted 03_protonet_pl.ipynb.\n",
      "Converted 04_cactus.ipynb.\n",
      "Converted index.ipynb.\n"
     ]
    }
   ],
   "source": [
    "from nbdev.export import notebook2script; notebook2script()"
   ]
  },
  {
   "cell_type": "code",
   "execution_count": null,
   "id": "e29b9021-b3e0-4e8b-bc0b-9618ddf38ced",
   "metadata": {},
   "outputs": [],
   "source": []
  }
 ],
 "metadata": {
  "kernelspec": {
   "display_name": "Python 3",
   "language": "python",
   "name": "python3"
  }
 },
 "nbformat": 4,
 "nbformat_minor": 5
}
