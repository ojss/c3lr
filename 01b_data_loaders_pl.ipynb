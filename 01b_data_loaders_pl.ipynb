{
 "cells": [
  {
   "cell_type": "code",
   "execution_count": null,
   "id": "aec899fc-b62d-4933-8cc5-3cc9e5e982c3",
   "metadata": {},
   "outputs": [],
   "source": [
    "#default_exp pl_dataloaders\n",
    "#export\n",
    "\n",
    "import warnings\n",
    "from torchmeta.datasets.helpers import omniglot, miniimagenet, ClassSplitter\n",
    "from torchmeta.datasets import Omniglot\n",
    "from torchmeta.utils.data import BatchMetaDataLoader\n",
    "\n",
    "import pytorch_lightning as pl"
   ]
  },
  {
   "cell_type": "code",
   "execution_count": null,
   "id": "2150b382-d13f-4df1-b25a-81dd23d28dcd",
   "metadata": {},
   "outputs": [],
   "source": [
    "#export\n",
    "class OmniglotDataModule(pl.LightningDataModule):\n",
    "    def __init__(\n",
    "        self,\n",
    "        data_dir: str,\n",
    "        shots: int,\n",
    "        ways: int,\n",
    "        shuffle_ds: bool,\n",
    "        test_shots: int,\n",
    "        meta_train: bool,\n",
    "        download: bool,\n",
    "        batch_size: str,\n",
    "        shuffle: bool,\n",
    "        num_workers: int):\n",
    "        super().__init__()\n",
    "        self.data_dir = data_dir\n",
    "        self.shots = shots\n",
    "        self.ways = ways\n",
    "        self.shuffle_ds = shuffle_ds\n",
    "        self.test_shots = test_shots\n",
    "        self.meta_train = meta_train\n",
    "        self.download = download\n",
    "        self.batch_size = batch_size\n",
    "        self.shuffle = shuffle\n",
    "        self.num_workers = num_workers\n",
    "    \n",
    "    def setup(self, stage=None):\n",
    "        self.task_dataset = omniglot(\n",
    "            self.data_dir,\n",
    "            shots=self.shots,\n",
    "            ways=self.ways,\n",
    "            shuffle=self.shuffle_ds,\n",
    "            test_shots=self.test_shots,\n",
    "            meta_train=self.meta_train,\n",
    "            download=self.download\n",
    "        )\n",
    "    def train_dataloader(self):\n",
    "        return BatchMetaDataLoader(\n",
    "            self.task_dataset,\n",
    "            batch_size=self.batch_size,\n",
    "            shuffle=self.shuffle,\n",
    "            num_workers=self.num_workers\n",
    "        )\n",
    "    \n",
    "    def val_dataloader(self):\n",
    "        self.val_tasks = omniglot(\n",
    "            self.data_dir,\n",
    "            shots=self.shots,\n",
    "            ways=self.ways,\n",
    "            shuffle=self.shuffle_ds,\n",
    "            test_shots=self.test_shots,\n",
    "            meta_val=True,\n",
    "            download=self.download\n",
    "        )\n",
    "        return BatchMetaDataLoader(\n",
    "            self.val_tasks,\n",
    "            batch_size=self.batch_size,\n",
    "            num_workers=self.num_workers\n",
    "        )\n",
    "    \n",
    "    def test_dataloader(self):\n",
    "        self.test_tasks = omniglot(\n",
    "            self.data_dir,\n",
    "            shots=self.shots,\n",
    "            ways=self.ways,\n",
    "            shuffle=self.shuffle_ds,\n",
    "            test_shots=self.test_shots,\n",
    "            meta_test=True,\n",
    "            download=self.download\n",
    "        )\n",
    "        return BatchMetaDataLoader(\n",
    "            self.test_tasks,\n",
    "            batch_size=self.batch_size,\n",
    "            num_workers=self.num_workers\n",
    "        )"
   ]
  },
  {
   "cell_type": "code",
   "execution_count": null,
   "id": "4e8f0ac6-2bce-4e91-b2f2-f0a3bc6a81d8",
   "metadata": {},
   "outputs": [],
   "source": [
    "ds = omniglot(\n",
    "            'data/',\n",
    "            shots=1,\n",
    "            ways=5,\n",
    "            shuffle=True,\n",
    "            test_shots=15,\n",
    "            meta_train=True,\n",
    "            download=True\n",
    "        )"
   ]
  },
  {
   "cell_type": "code",
   "execution_count": null,
   "id": "7183c7dd-65e1-45dd-bcbd-51fee227857e",
   "metadata": {},
   "outputs": [],
   "source": [
    "dl = BatchMetaDataLoader(\n",
    "            ds,\n",
    "            batch_size=16,\n",
    "            num_workers=4\n",
    "        )"
   ]
  },
  {
   "cell_type": "code",
   "execution_count": null,
   "id": "3a943ce4-72e2-4a8f-881f-46fb22a101a1",
   "metadata": {},
   "outputs": [
    {
     "name": "stderr",
     "output_type": "stream",
     "text": [
      "/home/ojass/anaconda3/envs/jax/lib/python3.9/site-packages/torchvision/transforms/functional.py:942: UserWarning: Argument interpolation should be of type InterpolationMode instead of int. Please, use InterpolationMode enum.\n",
      "  warnings.warn(\n",
      "/home/ojass/anaconda3/envs/jax/lib/python3.9/site-packages/torchvision/transforms/functional.py:942: UserWarning: Argument interpolation should be of type InterpolationMode instead of int. Please, use InterpolationMode enum.\n",
      "  warnings.warn(\n",
      "/home/ojass/anaconda3/envs/jax/lib/python3.9/site-packages/torchvision/transforms/functional.py:942: UserWarning: Argument interpolation should be of type InterpolationMode instead of int. Please, use InterpolationMode enum.\n",
      "  warnings.warn(\n",
      "/home/ojass/anaconda3/envs/jax/lib/python3.9/site-packages/torchvision/transforms/functional.py:942: UserWarning: Argument interpolation should be of type InterpolationMode instead of int. Please, use InterpolationMode enum.\n",
      "  warnings.warn(\n"
     ]
    },
    {
     "data": {
      "text/plain": [
       "torch.Size([16, 75, 1, 28, 28])"
      ]
     },
     "execution_count": null,
     "metadata": {},
     "output_type": "execute_result"
    }
   ],
   "source": [
    "next(iter(dl))['test'][0].shape"
   ]
  },
  {
   "cell_type": "code",
   "execution_count": null,
   "id": "f64d4ec5-57cb-4cc4-b753-1c6399213c19",
   "metadata": {},
   "outputs": [],
   "source": [
    "#export\n",
    "class MiniImagenetDataModule(pl.LightningDataModule):\n",
    "    def __init__(self,\n",
    "                 data_dir: str,\n",
    "                 shots: int,\n",
    "                 ways: int,\n",
    "                 shuffle_ds: bool,\n",
    "                 test_shots: int,\n",
    "                 meta_train: bool,\n",
    "                 download: bool,\n",
    "                 batch_size: str,\n",
    "                 shuffle: bool,\n",
    "                 num_workers: int):\n",
    "        self.data_dir = data_dir\n",
    "        self.shots = shots\n",
    "        self.ways = ways\n",
    "        self.shuffle_ds = shuffle_ds\n",
    "        self.test_shots = test_shots\n",
    "        self.meta_train = meta_train\n",
    "        self.download = download\n",
    "        self.batch_size = batch_size\n",
    "        self.shuffle = shuffle\n",
    "        self.num_workers = num_workers\n",
    "    \n",
    "    def setup(self):\n",
    "        self.train_taskset = miniimagenet(\n",
    "            self.data_dir,\n",
    "            shots=self.shots,\n",
    "            ways=self.ways,\n",
    "            shuffle=self.shuffle_ds,\n",
    "            test_shots=self.test_shots,\n",
    "            meta_train=True,\n",
    "            download=self.download\n",
    "        )\n",
    "    \n",
    "    def train_dataloader(self):\n",
    "        return BatchMetaDataLoader(\n",
    "            self.train_taskset,\n",
    "            shuffle=self.shuffle,\n",
    "            batch_size=self.batch_size,\n",
    "            num_workers=self.num_workers\n",
    "        )\n",
    "    def val_dataloader(self):\n",
    "        self.val_taskset = miniimagenet(\n",
    "            self.data_dir,\n",
    "            shots=self.shots,\n",
    "            ways=self.ways,\n",
    "            shuffle=self.shuffle_ds,\n",
    "            test_shots=self.test_shots,\n",
    "            meta_val=True,\n",
    "            download=self.download\n",
    "        )\n",
    "        return BatchMetaDataLoader(\n",
    "            self.val_taskset,\n",
    "            shuffle=self.shuffle,\n",
    "            batch_size=self.batch_size,\n",
    "            num_workers=self.num_workers\n",
    "        )\n",
    "    \n",
    "    def test_dataloader(self):\n",
    "        self.test_taskset = miniimagenet(\n",
    "            self.data_dir,\n",
    "            shots=self.shots,\n",
    "            ways=self.ways,\n",
    "            shuffle=False,\n",
    "            test_shots=self.test_shots,\n",
    "            meta_test=True,\n",
    "            download=self.download\n",
    "        )\n",
    "        return BatchMetaDataLoader(\n",
    "            self.test_taskset,\n",
    "            shuffle=False,\n",
    "            batch_size=self.batch_size,\n",
    "            num_workers=self.num_workers\n",
    "        )"
   ]
  },
  {
   "cell_type": "code",
   "execution_count": null,
   "id": "9875c16c-dbf5-4756-afaa-b17c8833acc5",
   "metadata": {},
   "outputs": [],
   "source": [
    "ds = omniglot(\n",
    "            'data/',\n",
    "            shots=1,\n",
    "            ways=5,\n",
    "            shuffle=False,\n",
    "            test_shots=15,\n",
    "            meta_train=True,\n",
    "            download=True\n",
    "        )"
   ]
  },
  {
   "cell_type": "code",
   "execution_count": null,
   "id": "94aaea8c-769f-4d57-9929-aafbf408bf58",
   "metadata": {},
   "outputs": [],
   "source": [
    "dl = BatchMetaDataLoader(ds, batch_size=16)"
   ]
  },
  {
   "cell_type": "code",
   "execution_count": null,
   "id": "f0beccfe-115c-41bd-a14b-2881a4a624f3",
   "metadata": {},
   "outputs": [
    {
     "name": "stderr",
     "output_type": "stream",
     "text": [
      "/home/ojass/anaconda3/envs/jax/lib/python3.9/site-packages/torchvision/transforms/functional.py:942: UserWarning: Argument interpolation should be of type InterpolationMode instead of int. Please, use InterpolationMode enum.\n",
      "  warnings.warn(\n"
     ]
    },
    {
     "data": {
      "text/plain": [
       "tensor([[0, 3, 1, 4, 2],\n",
       "        [4, 2, 0, 1, 3],\n",
       "        [4, 0, 3, 2, 1],\n",
       "        [1, 4, 3, 2, 0],\n",
       "        [4, 0, 2, 3, 1],\n",
       "        [0, 2, 1, 3, 4],\n",
       "        [2, 1, 0, 4, 3],\n",
       "        [4, 2, 1, 3, 0],\n",
       "        [0, 3, 2, 1, 4],\n",
       "        [0, 1, 4, 3, 2],\n",
       "        [0, 1, 2, 3, 4],\n",
       "        [2, 4, 1, 0, 3],\n",
       "        [4, 0, 3, 1, 2],\n",
       "        [2, 4, 0, 3, 1],\n",
       "        [0, 3, 1, 4, 2],\n",
       "        [3, 1, 2, 0, 4]])"
      ]
     },
     "execution_count": null,
     "metadata": {},
     "output_type": "execute_result"
    }
   ],
   "source": [
    "next(iter(dl))['train'][1]"
   ]
  },
  {
   "cell_type": "code",
   "execution_count": null,
   "id": "f200a773-2d12-42df-a3b8-afb86cb8c7e3",
   "metadata": {},
   "outputs": [
    {
     "name": "stdout",
     "output_type": "stream",
     "text": [
      "Converted 01_nn_utils.ipynb.\n",
      "Converted 01b_data_loaders_pl.ipynb.\n",
      "Converted 01c_grad_utils.ipynb.\n",
      "Converted 01d_hessian_free.ipynb.\n",
      "Converted 02_maml_pl.ipynb.\n",
      "Converted 02b_iMAML.ipynb.\n",
      "Converted 03_protonet_pl.ipynb.\n",
      "Converted 04_cactus.ipynb.\n",
      "Converted index.ipynb.\n"
     ]
    }
   ],
   "source": [
    "from nbdev.export import notebook2script; notebook2script()"
   ]
  },
  {
   "cell_type": "code",
   "execution_count": null,
   "id": "6ddee860-4987-4032-bfc7-a52f4fae77c6",
   "metadata": {},
   "outputs": [],
   "source": []
  }
 ],
 "metadata": {
  "kernelspec": {
   "display_name": "Python 3",
   "language": "python",
   "name": "python3"
  }
 },
 "nbformat": 4,
 "nbformat_minor": 5
}
