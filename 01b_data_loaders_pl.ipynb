{
 "cells": [
  {
   "cell_type": "code",
   "execution_count": null,
   "id": "aec899fc-b62d-4933-8cc5-3cc9e5e982c3",
   "metadata": {},
   "outputs": [],
   "source": [
    "#default_exp pl_dataloaders\n",
    "#export\n",
    "\n",
    "import warnings\n",
    "from torchmeta.datasets.helpers import omniglot, miniimagenet\n",
    "from torchmeta.utils.data import BatchMetaDataLoader\n",
    "\n",
    "import pytorch_lightning as pl"
   ]
  },
  {
   "cell_type": "code",
   "execution_count": null,
   "id": "2150b382-d13f-4df1-b25a-81dd23d28dcd",
   "metadata": {},
   "outputs": [],
   "source": [
    "#export\n",
    "class OmniglotDataModule(pl.LightningDataModule):\n",
    "    def __init__(\n",
    "        self,\n",
    "        data_dir: str,\n",
    "        shots: int,\n",
    "        ways: int,\n",
    "        shuffle_ds: bool,\n",
    "        test_shots: int,\n",
    "        meta_train: bool,\n",
    "        download: bool,\n",
    "        batch_size: str,\n",
    "        shuffle: bool,\n",
    "        num_workers: int):\n",
    "        super().__init__()\n",
    "        self.data_dir = data_dir\n",
    "        self.shots = shots\n",
    "        self.ways = ways\n",
    "        self.shuffle_ds = shuffle_ds\n",
    "        self.test_shots = test_shots\n",
    "        self.meta_train = meta_train\n",
    "        self.download = download\n",
    "        self.batch_size = batch_size\n",
    "        self.shuffle = shuffle\n",
    "        self.num_workers = num_workers\n",
    "    \n",
    "    def setup(self, stage=None):\n",
    "        self.task_dataset = omniglot(\n",
    "            self.data_dir,\n",
    "            shots=self.shots,\n",
    "            ways=self.ways,\n",
    "            shuffle=self.shuffle_ds,\n",
    "            test_shots=self.test_shots,\n",
    "            meta_train=self.meta_train,\n",
    "            download=self.download\n",
    "        )\n",
    "    def train_dataloader(self):\n",
    "        return BatchMetaDataLoader(\n",
    "            self.task_dataset,\n",
    "            batch_size=self.batch_size,\n",
    "            shuffle=self.shuffle,\n",
    "            num_workers=self.num_workers\n",
    "        )"
   ]
  },
  {
   "cell_type": "code",
   "execution_count": null,
   "id": "f200a773-2d12-42df-a3b8-afb86cb8c7e3",
   "metadata": {},
   "outputs": [
    {
     "name": "stdout",
     "output_type": "stream",
     "text": [
      "Converted 01_nn_utils.ipynb.\n",
      "Converted 01b_data_loaders_pl.ipynb.\n",
      "Converted 02_maml.ipynb.\n",
      "Converted 02b_maml_pl.ipynb.\n",
      "Converted 03_protonet.ipynb.\n",
      "Converted 04_cactus.ipynb.\n",
      "Converted 04b_protonet_pl.ipynb.\n",
      "Converted index.ipynb.\n"
     ]
    }
   ],
   "source": [
    "from nbdev.export import notebook2script; notebook2script()"
   ]
  },
  {
   "cell_type": "code",
   "execution_count": null,
   "id": "287a5de9-e4df-4f17-8510-906251c2a048",
   "metadata": {},
   "outputs": [],
   "source": []
  }
 ],
 "metadata": {
  "kernelspec": {
   "display_name": "Python 3",
   "language": "python",
   "name": "python3"
  }
 },
 "nbformat": 4,
 "nbformat_minor": 5
}
