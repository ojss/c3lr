{
 "cells": [
  {
   "cell_type": "code",
   "execution_count": 1,
   "id": "655933da-405e-45ce-a1e2-b4ab6a06fbf2",
   "metadata": {},
   "outputs": [],
   "source": [
    "import jax.numpy as np\n",
    "from jax import grad\n",
    "from matplotlib import pyplot as plt\n",
    "\n",
    "%matplotlib inline"
   ]
  },
  {
   "cell_type": "code",
   "execution_count": 2,
   "id": "e0dd1a5e-6307-4ec9-9983-a0e7b10f441d",
   "metadata": {},
   "outputs": [],
   "source": [
    "f = lambda x: np.exp(x)\n",
    "g = lambda x: np.square(x)"
   ]
  },
  {
   "cell_type": "code",
   "execution_count": 3,
   "id": "2db4eb2f-b4ee-4c2a-80d5-cb6b63cc2556",
   "metadata": {},
   "outputs": [
    {
     "name": "stderr",
     "output_type": "stream",
     "text": [
      "WARNING:absl:No GPU/TPU found, falling back to CPU. (Set TF_CPP_MIN_LOG_LEVEL=0 and rerun for more info.)\n"
     ]
    },
    {
     "name": "stdout",
     "output_type": "stream",
     "text": [
      "2.7182817\n"
     ]
    }
   ],
   "source": [
    "print(grad(f)(1.))"
   ]
  },
  {
   "cell_type": "code",
   "execution_count": 6,
   "id": "652fa716-2980-42b1-a187-da6287089a09",
   "metadata": {},
   "outputs": [],
   "source": [
    "from jax import vmap # for auto-vectorizing functions\n",
    "from functools import partial # for use with vmap\n",
    "from jax import jit # for compiling functions for speedup\n",
    "import flax # neural network library\n",
    "from flax import linen as nn\n",
    "from jax.experimental import stax\n",
    "from jax.experimental.stax import Conv, Dense, MaxPool, Relu, Flatten, LogSoftmax # neural network layers\n"
   ]
  },
  {
   "cell_type": "code",
   "execution_count": 11,
   "id": "b5a8af10-9d71-480b-be24-2eb48de28ddf",
   "metadata": {},
   "outputs": [
    {
     "ename": "TypeError",
     "evalue": "init_fun() missing 1 required positional argument: 'input_shape'",
     "output_type": "error",
     "traceback": [
      "\u001b[0;31m---------------------------------------------------------------------------\u001b[0m",
      "\u001b[0;31mTypeError\u001b[0m                                 Traceback (most recent call last)",
      "\u001b[0;32m<ipython-input-11-f1c6ecc36e9d>\u001b[0m in \u001b[0;36m<module>\u001b[0;34m\u001b[0m\n\u001b[1;32m      6\u001b[0m )\n\u001b[1;32m      7\u001b[0m \u001b[0min_shape\u001b[0m \u001b[0;34m=\u001b[0m \u001b[0;34m(\u001b[0m\u001b[0;34m-\u001b[0m\u001b[0;36m1\u001b[0m\u001b[0;34m,\u001b[0m \u001b[0;36m1\u001b[0m\u001b[0;34m,\u001b[0m\u001b[0;34m)\u001b[0m\u001b[0;34m\u001b[0m\u001b[0;34m\u001b[0m\u001b[0m\n\u001b[0;32m----> 8\u001b[0;31m \u001b[0mout_shape\u001b[0m\u001b[0;34m,\u001b[0m \u001b[0mnet_params\u001b[0m \u001b[0;34m=\u001b[0m \u001b[0mnet_init\u001b[0m\u001b[0;34m(\u001b[0m \u001b[0min_shape\u001b[0m\u001b[0;34m)\u001b[0m\u001b[0;34m\u001b[0m\u001b[0;34m\u001b[0m\u001b[0m\n\u001b[0m",
      "\u001b[0;31mTypeError\u001b[0m: init_fun() missing 1 required positional argument: 'input_shape'"
     ]
    }
   ],
   "source": [
    " # Use stax to set up network initialization and evaluation functions\n",
    "net_init, net_apply = stax.serial(\n",
    "    Dense(40), Relu,\n",
    "    Dense(40), Relu,\n",
    "    Dense(1)\n",
    ")\n",
    "in_shape = (-1, 1,)\n",
    "out_shape, net_params = net_init( in_shape)"
   ]
  },
  {
   "cell_type": "code",
   "execution_count": null,
   "id": "0382dd3c-e379-4ce2-ac82-14ee3bf0e7f1",
   "metadata": {},
   "outputs": [],
   "source": []
  }
 ],
 "metadata": {
  "kernelspec": {
   "display_name": "Python 3",
   "language": "python",
   "name": "python3"
  },
  "language_info": {
   "codemirror_mode": {
    "name": "ipython",
    "version": 3
   },
   "file_extension": ".py",
   "mimetype": "text/x-python",
   "name": "python",
   "nbconvert_exporter": "python",
   "pygments_lexer": "ipython3",
   "version": "3.9.4"
  }
 },
 "nbformat": 4,
 "nbformat_minor": 5
}
