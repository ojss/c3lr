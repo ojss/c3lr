{
 "cells": [
  {
   "cell_type": "code",
   "execution_count": null,
   "id": "083f188b",
   "metadata": {},
   "outputs": [
    {
     "name": "stderr",
     "output_type": "stream",
     "text": [
      "/home/ojas/anaconda3/envs/ai/lib/python3.9/site-packages/pytorch_lightning/metrics/__init__.py:43: LightningDeprecationWarning: `pytorch_lightning.metrics.*` module has been renamed to `torchmetrics.*` and split off to its own package (https://github.com/PyTorchLightning/metrics) since v1.3 and will be removed in v1.5\n",
      "  rank_zero_deprecation(\n",
      "/home/ojas/anaconda3/envs/ai/lib/python3.9/site-packages/tensorboard/compat/tensorflow_stub/dtypes.py:572: DeprecationWarning: `np.object` is a deprecated alias for the builtin `object`. To silence this warning, use `object` by itself. Doing this will not modify any behavior and is safe. \n",
      "Deprecated in NumPy 1.20; for more details and guidance: https://numpy.org/devdocs/release/1.20.0-notes.html#deprecations\n",
      "  (np.object, string),\n",
      "/home/ojas/anaconda3/envs/ai/lib/python3.9/site-packages/tensorboard/compat/tensorflow_stub/dtypes.py:573: DeprecationWarning: `np.bool` is a deprecated alias for the builtin `bool`. To silence this warning, use `bool` by itself. Doing this will not modify any behavior and is safe. If you specifically wanted the numpy scalar type, use `np.bool_` here.\n",
      "Deprecated in NumPy 1.20; for more details and guidance: https://numpy.org/devdocs/release/1.20.0-notes.html#deprecations\n",
      "  (np.bool, bool),\n",
      "/home/ojas/anaconda3/envs/ai/lib/python3.9/site-packages/tensorboard/compat/tensorflow_stub/dtypes.py:597: DeprecationWarning: `np.object` is a deprecated alias for the builtin `object`. To silence this warning, use `object` by itself. Doing this will not modify any behavior and is safe. \n",
      "Deprecated in NumPy 1.20; for more details and guidance: https://numpy.org/devdocs/release/1.20.0-notes.html#deprecations\n",
      "  types_pb2.DT_STRING: np.object,\n",
      "/home/ojas/anaconda3/envs/ai/lib/python3.9/site-packages/tensorboard/compat/tensorflow_stub/dtypes.py:601: DeprecationWarning: `np.bool` is a deprecated alias for the builtin `bool`. To silence this warning, use `bool` by itself. Doing this will not modify any behavior and is safe. If you specifically wanted the numpy scalar type, use `np.bool_` here.\n",
      "Deprecated in NumPy 1.20; for more details and guidance: https://numpy.org/devdocs/release/1.20.0-notes.html#deprecations\n",
      "  types_pb2.DT_BOOL: np.bool,\n",
      "/home/ojas/anaconda3/envs/ai/lib/python3.9/site-packages/tensorboard/compat/tensorflow_stub/dtypes.py:618: DeprecationWarning: `np.object` is a deprecated alias for the builtin `object`. To silence this warning, use `object` by itself. Doing this will not modify any behavior and is safe. \n",
      "Deprecated in NumPy 1.20; for more details and guidance: https://numpy.org/devdocs/release/1.20.0-notes.html#deprecations\n",
      "  types_pb2.DT_STRING_REF: np.object,\n",
      "/home/ojas/anaconda3/envs/ai/lib/python3.9/site-packages/tensorboard/compat/tensorflow_stub/dtypes.py:623: DeprecationWarning: `np.bool` is a deprecated alias for the builtin `bool`. To silence this warning, use `bool` by itself. Doing this will not modify any behavior and is safe. If you specifically wanted the numpy scalar type, use `np.bool_` here.\n",
      "Deprecated in NumPy 1.20; for more details and guidance: https://numpy.org/devdocs/release/1.20.0-notes.html#deprecations\n",
      "  types_pb2.DT_BOOL_REF: np.bool,\n",
      "/home/ojas/anaconda3/envs/ai/lib/python3.9/site-packages/tensorboard/util/tensor_util.py:113: DeprecationWarning: `np.object` is a deprecated alias for the builtin `object`. To silence this warning, use `object` by itself. Doing this will not modify any behavior and is safe. \n",
      "Deprecated in NumPy 1.20; for more details and guidance: https://numpy.org/devdocs/release/1.20.0-notes.html#deprecations\n",
      "  np.object: SlowAppendObjectArrayToTensorProto,\n",
      "/home/ojas/anaconda3/envs/ai/lib/python3.9/site-packages/tensorboard/util/tensor_util.py:114: DeprecationWarning: `np.bool` is a deprecated alias for the builtin `bool`. To silence this warning, use `bool` by itself. Doing this will not modify any behavior and is safe. If you specifically wanted the numpy scalar type, use `np.bool_` here.\n",
      "Deprecated in NumPy 1.20; for more details and guidance: https://numpy.org/devdocs/release/1.20.0-notes.html#deprecations\n",
      "  np.bool: SlowAppendBoolArrayToTensorProto,\n"
     ]
    }
   ],
   "source": [
    "#default_exp cactus\n",
    "#export\n",
    "import os\n",
    "import tempfile\n",
    "import warnings\n",
    "import pickle\n",
    "\n",
    "import kornia as K\n",
    "\n",
    "import numpy as np\n",
    "import matplotlib.pyplot as plt\n",
    "import torchvision\n",
    "import torchvision.transforms as tfms\n",
    "import torch\n",
    "import torch.nn as nn\n",
    "import torch.nn.functional as F\n",
    "import torchnet\n",
    "import pytorch_lightning as pl\n",
    "from tqdm.auto import tqdm\n",
    "\n",
    "\n",
    "from collections import OrderedDict, defaultdict\n",
    "from functools import partial\n",
    "from dataclasses import dataclass\n",
    "\n",
    "from torch.utils.data import Dataset, DataLoader\n",
    "\n",
    "from torchnet.dataset import ListDataset, TransformDataset\n",
    "from torchmeta.utils.data import BatchMetaDataLoader\n",
    "from sklearn.cluster import KMeans\n",
    "\n",
    "from unsupervised_meta_learning.nn_utils import c_imshow\n",
    "from unsupervised_meta_learning.protonets import CactusPrototypicalModel, ProtoModule"
   ]
  },
  {
   "cell_type": "code",
   "execution_count": null,
   "id": "a96f6c7d",
   "metadata": {},
   "outputs": [],
   "source": [
    "%matplotlib inline"
   ]
  },
  {
   "cell_type": "code",
   "execution_count": null,
   "id": "0e5b2a36",
   "metadata": {},
   "outputs": [],
   "source": [
    "#export\n",
    "class Partition():\n",
    "    def __init__(self, labels, n_way, n_shot, n_query):\n",
    "        partition = defaultdict(list)\n",
    "        cleaned_partition = {}\n",
    "        for ind, label in enumerate(labels):\n",
    "            partition[label].append(ind)\n",
    "        for label in list(partition.keys()):\n",
    "            if len(partition[label]) >= n_shot + n_query:\n",
    "                cleaned_partition[label] = np.array(partition[label], dtype=np.int)\n",
    "        self.partition = cleaned_partition\n",
    "        self.subset_ids = np.array(list(cleaned_partition.keys()))\n",
    "\n",
    "    def __getitem__(self, key):\n",
    "        return self.partition[key]"
   ]
  },
  {
   "cell_type": "code",
   "execution_count": null,
   "id": "7ca0ea0e",
   "metadata": {},
   "outputs": [],
   "source": [
    "#export\n",
    "class CactusTaskDataset(Dataset):\n",
    "    def __init__(self, data, partitions, n_way, n_shot, n_query, length):\n",
    "        self.data = data\n",
    "        self.partitions = partitions\n",
    "        self.n_way = n_way\n",
    "        self.n_shot = n_shot\n",
    "        self.n_query = n_query\n",
    "        self.length = length\n",
    "        self.iter = 0\n",
    "\n",
    "    def reset(self):\n",
    "        self.iter = 0\n",
    "\n",
    "    def __iter__(self):\n",
    "        return self\n",
    "\n",
    "    def __len__(self):\n",
    "        return self.length\n",
    "    \n",
    "    def __getitem__(self, idx):\n",
    "        return self.__next__()\n",
    "\n",
    "    def __next__(self):\n",
    "        if self.iter == self.length:\n",
    "            raise StopIteration\n",
    "        self.iter += 1\n",
    "\n",
    "        i_partition = torch.randint(low=0, high=len(self.partitions), size=(1,), dtype=torch.int)\n",
    "        partition = self.partitions[i_partition]\n",
    "        sampled_subset_ids = np.random.choice(partition.subset_ids, size=self.n_way, replace=False)\n",
    "        xs, xq = [], []\n",
    "        for subset_id in sampled_subset_ids:\n",
    "            indices = np.random.choice(partition[subset_id], self.n_shot + self.n_query, replace=False)\n",
    "            x = self.data[indices]\n",
    "            x = x.astype(np.float32) / 255.0\n",
    "            if x.shape[1] != 1 and x.shape[1] != 3:\n",
    "                x = np.transpose(x, [0, 3, 1, 2])\n",
    "            x = torch.from_numpy(x)\n",
    "            xs.append(x[:self.n_shot])\n",
    "            xq.append(x[self.n_shot:])\n",
    "        xs = torch.stack(xs, dim=0)\n",
    "        xq = torch.stack(xq, dim=0)\n",
    "\n",
    "        return {'train': xs, 'test': xq}"
   ]
  },
  {
   "cell_type": "code",
   "execution_count": null,
   "id": "0e231f97",
   "metadata": {},
   "outputs": [],
   "source": [
    "#export\n",
    "def get_partitions_kmeans(encodings, n_way, n_shot, n_query, random_scaling=True, n_partitions=100, n_clusters=500):\n",
    "    tmp_dir = tempfile.TemporaryDirectory()\n",
    "    os.environ['JOBLIB_TEMP_FOLDER'] = tmp_dir.name  # default runs out of space for parallel processing\n",
    "    \n",
    "    encodings_list = [encodings]\n",
    "    \n",
    "    if random_scaling:\n",
    "        n_clusters_list = [n_clusters]\n",
    "        for i in range(n_partitions - 1):\n",
    "            weight_vector = np.random.uniform(low=0., high=1., size=encodings.shape[1])\n",
    "            encodings_list.append(np.multiply(encodings, weight_vector))\n",
    "            \n",
    "    else:\n",
    "        n_clusters_list = [n_clusters] * n_partitions\n",
    "    \n",
    "    assert len(encodings_list) * len(n_clusters_list) == n_partitions\n",
    "    \n",
    "    if n_partitions != 1:\n",
    "        n_init = 3\n",
    "        init = 'k-means++'\n",
    "    else:\n",
    "        n_init = 10\n",
    "        init = 'k-means++'\n",
    "    \n",
    "    print('Number of encodings: {}, number of n_clusters: {}, number of inits: '.format(len(encodings_list),\n",
    "                                                                                        len(n_clusters_list)), n_init)\n",
    "    kmeans_list = []\n",
    "    \n",
    "    for n_clusters in tqdm(n_clusters_list, desc='get_partitions_kmeans_n_clusters'):\n",
    "        for encodings in tqdm(encodings_list, desc='get_partitions_kmeans_encodings'):\n",
    "            while True:\n",
    "                kmeans = KMeans(n_clusters=n_clusters,\n",
    "                                init=init,\n",
    "                                n_init=n_init,\n",
    "                                max_iter=3000).fit(encodings)\n",
    "                uniques, counts = np.unique(kmeans.labels_, return_counts=True)\n",
    "                num_big_enough_clusters = np.sum(counts >= n_shot + n_query)\n",
    "                \n",
    "                if num_big_enough_clusters > .8 * n_clusters:\n",
    "                    break\n",
    "                else:\n",
    "                    tqdm.write(\"Too few classes ({}) with greater than {} examples.\".format(num_big_enough_clusters,\n",
    "                                                                                            n_shot + n_query))\n",
    "                    tqdm.write('Frequency: {}'.format(counts))\n",
    "            kmeans_list.append(kmeans)\n",
    "    partitions = []\n",
    "    for kmeans in kmeans_list:\n",
    "        partitions.append(Partition(labels=kmeans.labels_, n_way=n_way, n_shot=n_shot, n_query=n_query))\n",
    "    tmp_dir.cleanup()\n",
    "    return partitions"
   ]
  },
  {
   "cell_type": "code",
   "execution_count": null,
   "id": "4e38e54d",
   "metadata": {},
   "outputs": [],
   "source": [
    "#export\n",
    "@dataclass\n",
    "class DataOpt:\n",
    "    dataset: str = 'omniglot'\n",
    "    encoder='acai'\n",
    "    test_way: int = None\n",
    "    way: int = 5\n",
    "    test_shot: int = None\n",
    "    shot: int = 1\n",
    "    test_query: int = None\n",
    "    query: int = 15\n",
    "    test_episodes: int = 100\n",
    "    test_mode:int = 'ground_truth'\n",
    "    partitions:int = 100\n",
    "    clusters:int = 500\n",
    "    train_mode: str = 'kmeans'\n",
    "    train_episodes: int = 100\n",
    "\n",
    "@dataclass\n",
    "class LoaderOpt:\n",
    "    data: DataOpt"
   ]
  },
  {
   "cell_type": "code",
   "execution_count": null,
   "id": "81667219",
   "metadata": {},
   "outputs": [],
   "source": [
    "dummy = DataOpt(\n",
    "    dataset='omniglot',\n",
    "    way=20,\n",
    "    shot=1,\n",
    "    test_shot=1,\n",
    "    test_way=5,\n",
    "    test_query=5,\n",
    "    query=15,\n",
    "    train_mode='kmeans',\n",
    "    train_episodes=100,\n",
    "    test_episodes=100,\n",
    "    test_mode='ground_truth',\n",
    "    partitions=1,\n",
    "    clusters=500\n",
    ")\n",
    "l = LoaderOpt(data=dummy)"
   ]
  },
  {
   "cell_type": "code",
   "execution_count": null,
   "id": "a0cfd17c",
   "metadata": {},
   "outputs": [],
   "source": [
    "#export\n",
    "def load(opt:LoaderOpt, splits, data_dir):\n",
    "    encodings_dir = os.path.join(data_dir, '{}_encodings'.format(opt.data.encoder))\n",
    "    filenames = os.listdir(encodings_dir)\n",
    "    \n",
    "    ret = {}\n",
    "    \n",
    "    for split in splits:\n",
    "        if split in ['val', 'test'] and opt.data.test_way != 0:\n",
    "            n_way = opt.data.test_way\n",
    "        else:\n",
    "            n_way = opt.data.way\n",
    "\n",
    "        if split in ['val', 'test'] and opt.data.test_shot != 0:\n",
    "            n_support = opt.data.test_shot\n",
    "        else:\n",
    "            n_support = opt.data.shot\n",
    "\n",
    "        if split in ['val', 'test'] and opt.data.test_query != 0:\n",
    "            n_query = opt.data.test_query\n",
    "        else:\n",
    "            n_query = opt.data.query\n",
    "\n",
    "        if split in ['val', 'test']:\n",
    "            n_episodes = opt.data.test_episodes\n",
    "            mode = opt.data.test_mode\n",
    "        else:\n",
    "            n_episodes = opt.data.train_episodes\n",
    "            mode = opt.data.train_mode\n",
    "        \n",
    "        split_filename = [filename for filename in filenames if opt.data.dataset in filename and split in filename]\n",
    "        split_filename = os.path.join(encodings_dir, split_filename[0])\n",
    "        split_data = np.load(split_filename)\n",
    "        images = split_data['X']    # (index, H, W, C)\n",
    "        labels = split_data['Y']\n",
    "        encodings = split_data['Z']\n",
    "        \n",
    "        if mode == 'ground_truth':\n",
    "            if opt.data.dataset == 'celeba':\n",
    "#                 TODO: need to change this part\n",
    "                annotations_filename = os.path.join(DATA_DIR, 'celeba/cropped/Anno/list_attr_celeba.txt')\n",
    "                partitions = celeba_partitions(labels=labels, split=split, annotations_filename=annotations_filename, n_way=n_way, n_shot=n_support, n_query=n_query)\n",
    "            else:\n",
    "                partitions = [Partition(labels=labels, n_way=n_way, n_shot=n_support, n_query=n_query)]\n",
    "\n",
    "        elif mode == 'kmeans':\n",
    "            partitions = get_partitions_kmeans(encodings=encodings, n_way=n_way, n_shot=n_support, n_query=n_query, n_partitions=opt.data.partitions, n_clusters=opt.data.clusters)\n",
    "\n",
    "        elif mode == 'random':\n",
    "            partitions = [Partition(labels=np.random.choice(opt.data.clusters, size=labels.shape, replace=True), n_way=n_way, n_shot=n_support, n_query=n_query) for i in range(opt.data.partitions)]\n",
    "        else:\n",
    "            raise ValueError\n",
    "        ret[split] = CactusTaskDataset(data=images,\n",
    "                                partitions=partitions,\n",
    "                                n_way=n_way,\n",
    "                                n_shot=n_support,\n",
    "                                n_query=n_query,\n",
    "                                length=n_episodes)\n",
    "\n",
    "    return ret\n",
    "    "
   ]
  },
  {
   "cell_type": "code",
   "execution_count": null,
   "id": "dfb78c5e",
   "metadata": {},
   "outputs": [
    {
     "name": "stdout",
     "output_type": "stream",
     "text": [
      "Number of encodings: 1, number of n_clusters: 1, number of inits:  10\n"
     ]
    },
    {
     "data": {
      "application/vnd.jupyter.widget-view+json": {
       "model_id": "5eb05c28afe5419087c45ba924d38f4f",
       "version_major": 2,
       "version_minor": 0
      },
      "text/plain": [
       "get_partitions_kmeans_n_clusters:   0%|          | 0/1 [00:00<?, ?it/s]"
      ]
     },
     "metadata": {},
     "output_type": "display_data"
    },
    {
     "data": {
      "application/vnd.jupyter.widget-view+json": {
       "model_id": "29a68c81da114d85bd58933a24d0c988",
       "version_major": 2,
       "version_minor": 0
      },
      "text/plain": [
       "get_partitions_kmeans_encodings:   0%|          | 0/1 [00:00<?, ?it/s]"
      ]
     },
     "metadata": {},
     "output_type": "display_data"
    },
    {
     "name": "stderr",
     "output_type": "stream",
     "text": [
      "<ipython-input-3-57a1d7989bcd>:10: DeprecationWarning: `np.int` is a deprecated alias for the builtin `int`. To silence this warning, use `int` by itself. Doing this will not modify any behavior and is safe. When replacing `np.int`, you may wish to use e.g. `np.int64` or `np.int32` to specify the precision. If you wish to review your current use, check the release note link for additional information.\n",
      "Deprecated in NumPy 1.20; for more details and guidance: https://numpy.org/devdocs/release/1.20.0-notes.html#deprecations\n",
      "  cleaned_partition[label] = np.array(partition[label], dtype=np.int)\n"
     ]
    }
   ],
   "source": [
    "r = load(l, ['train', 'val'], data_dir='data/cactus_data/')"
   ]
  },
  {
   "cell_type": "code",
   "execution_count": null,
   "id": "984c9fab",
   "metadata": {},
   "outputs": [],
   "source": [
    "# only to write !! DONT RUN OTHERWISE\n",
    "with open('saved_op/partitions.pkl', 'wb') as of:\n",
    "    pickle.dump(r, of)"
   ]
  },
  {
   "cell_type": "code",
   "execution_count": null,
   "id": "5064e61e",
   "metadata": {},
   "outputs": [],
   "source": [
    "with open('saved_op/partitions.pkl', 'rb') as f:\n",
    "    r = pickle.load(f)"
   ]
  },
  {
   "cell_type": "code",
   "execution_count": null,
   "id": "1545f391",
   "metadata": {},
   "outputs": [],
   "source": [
    "xs = torchnet.dataset.TransformDataset(r['train'],\n",
    "                                 lambda x: {'train': x['train'],\n",
    "                                            'test': x['test']\n",
    "                                           })"
   ]
  },
  {
   "cell_type": "code",
   "execution_count": null,
   "id": "e9d38e61",
   "metadata": {},
   "outputs": [],
   "source": [
    "dl = DataLoader(r['train'])"
   ]
  },
  {
   "cell_type": "code",
   "execution_count": null,
   "id": "933ea92b",
   "metadata": {},
   "outputs": [],
   "source": [
    "dl.dataset.reset()"
   ]
  },
  {
   "cell_type": "code",
   "execution_count": null,
   "id": "de75da4c",
   "metadata": {},
   "outputs": [],
   "source": [
    "#export\n",
    "class CactusDataModule(pl.LightningDataModule):\n",
    "    def __init__(self,\n",
    "                 ways,\n",
    "                 shots,\n",
    "                 query,\n",
    "                 train_mode='kmeans',\n",
    "                 train_episodes=100,\n",
    "                 test_way=5,\n",
    "                 test_shot=1,\n",
    "                 test_query=5,\n",
    "                 test_mode='ground_truth',\n",
    "                 test_episodes=100,\n",
    "                 partitions=100,\n",
    "                 clusters=500,\n",
    "                 batch_size=1,\n",
    "                 use_precomputed_partitions=False,\n",
    "                 precomputed_partition_path='saved_op/partitions.pkl',\n",
    "                 dataset='omniglot',\n",
    "                 emb_data_dir='data/cactus_data/'):\n",
    "        \n",
    "        super().__init__()\n",
    "        \n",
    "        self.use_precomputed_partitions = use_precomputed_partitions\n",
    "        self.precomputed_partition_path = precomputed_partition_path\n",
    "        \n",
    "        self.dataset = dataset\n",
    "        self.ways = ways\n",
    "        self.shots = shots\n",
    "        self.query_shots = query\n",
    "        self.train_mode = train_mode\n",
    "        self.train_episodes = train_episodes\n",
    "        \n",
    "        self.test_way = test_way\n",
    "        self.test_query = test_query\n",
    "        self.test_shot = test_shot\n",
    "        self.test_mode = test_mode\n",
    "        self.test_episodes = test_episodes\n",
    "        \n",
    "        self.partitions = partitions\n",
    "        self.clusters = clusters\n",
    "        \n",
    "        self.use_precomputed_partitions = use_precomputed_partitions\n",
    "        self.precomputed_partition_path= precomputed_partition_path\n",
    "        self.emb_data_dir = emb_data_dir\n",
    "        self.batch_size = batch_size\n",
    "            \n",
    "    \n",
    "    def setup(self, stage=None):\n",
    "        if not self.use_precomputed_partitions:\n",
    "            print(\"Computing partitions\")\n",
    "            # normal running            \n",
    "            self.data_opt = DataOpt(\n",
    "                dataset=self.dataset,\n",
    "                way=self.ways,\n",
    "                shot=self.shots,\n",
    "                query=self.query_shots,\n",
    "                train_mode=self.train_mode,\n",
    "                train_episodes=self.train_episodes,\n",
    "                test_shot=self.test_shot,\n",
    "                test_way=self.test_way,\n",
    "                test_query=self.test_query,\n",
    "                test_episodes=self.test_episodes,\n",
    "                test_mode=self.test_mode,\n",
    "                partitions=self.partitions,\n",
    "                clusters=self.clusters\n",
    "            )\n",
    "            \n",
    "            self.loader_opt = LoaderOpt(data=self.data_opt)\n",
    "            self.ds = load(self.loader_opt,\n",
    "                           ['train', 'val'],\n",
    "                           data_dir=self.emb_data_dir)\n",
    "            \n",
    "        else:\n",
    "            # when I don't have enough compute\n",
    "            with open(self.precomputed_partition_path, 'rb') as f:\n",
    "                self.ds = pickle.load(f)\n",
    "        \n",
    "        if 'val' in self.ds:\n",
    "            self.val_ds = self.ds['val']\n",
    "        # the batch dim is manually handled here\n",
    "        self.train_ds = self.ds['train']\n",
    "        \n",
    "    def train_dataloader(self):\n",
    "        # default batch_size = 1, batch dim is handled in setup of train_ds\n",
    "        return DataLoader(\n",
    "            self.train_ds\n",
    "        )\n",
    "    \n",
    "    def val_dataloader(self):\n",
    "        return DataLoader(\n",
    "            self.val_ds\n",
    "        )\n",
    "    \n",
    "    def test_dataloader(self):\n",
    "        pass"
   ]
  },
  {
   "cell_type": "code",
   "execution_count": null,
   "id": "1f32eed2",
   "metadata": {},
   "outputs": [],
   "source": [
    "dm = CactusDataModule(ways=20, shots=1, query=15, use_precomputed_partitions=False, partitions=1)"
   ]
  },
  {
   "cell_type": "code",
   "execution_count": null,
   "id": "0c81aa3c",
   "metadata": {},
   "outputs": [],
   "source": [
    "model = ProtoModule(encoder=CactusPrototypicalModel(in_channels=1, hidden_size=64), num_classes=20, cactus_flag=True, lr=1e-3)"
   ]
  },
  {
   "cell_type": "code",
   "execution_count": null,
   "id": "cd19e151",
   "metadata": {},
   "outputs": [
    {
     "name": "stderr",
     "output_type": "stream",
     "text": [
      "GPU available: True, used: True\n",
      "TPU available: False, using: 0 TPU cores\n"
     ]
    }
   ],
   "source": [
    "trainer = pl.Trainer(\n",
    "        profiler='simple',\n",
    "#         max_steps=30_000,\n",
    "        max_epochs=300,\n",
    "        fast_dev_run=False,\n",
    "        gpus=1,\n",
    "        log_every_n_steps=1,\n",
    "        check_val_every_n_epoch=1,\n",
    "        flush_logs_every_n_steps=1,\n",
    "        num_sanity_val_steps=2,\n",
    "#         logger=logger\n",
    "    )"
   ]
  },
  {
   "cell_type": "code",
   "execution_count": null,
   "id": "51e69a04",
   "metadata": {},
   "outputs": [
    {
     "name": "stdout",
     "output_type": "stream",
     "text": [
      "Computing partitions\n",
      "Number of encodings: 1, number of n_clusters: 1, number of inits:  10\n"
     ]
    },
    {
     "data": {
      "application/vnd.jupyter.widget-view+json": {
       "model_id": "b928d7128d3a4d0184086c048a31957f",
       "version_major": 2,
       "version_minor": 0
      },
      "text/plain": [
       "get_partitions_kmeans_n_clusters:   0%|          | 0/1 [00:00<?, ?it/s]"
      ]
     },
     "metadata": {},
     "output_type": "display_data"
    },
    {
     "data": {
      "application/vnd.jupyter.widget-view+json": {
       "model_id": "e610bef59ea54aa8bba4b88631d1bc76",
       "version_major": 2,
       "version_minor": 0
      },
      "text/plain": [
       "get_partitions_kmeans_encodings:   0%|          | 0/1 [00:00<?, ?it/s]"
      ]
     },
     "metadata": {},
     "output_type": "display_data"
    },
    {
     "name": "stderr",
     "output_type": "stream",
     "text": [
      "LOCAL_RANK: 0 - CUDA_VISIBLE_DEVICES: [0]\n",
      "\n",
      "  | Name  | Type                    | Params\n",
      "--------------------------------------------------\n",
      "0 | model | CactusPrototypicalModel | 111 K \n",
      "--------------------------------------------------\n",
      "111 K     Trainable params\n",
      "0         Non-trainable params\n",
      "111 K     Total params\n",
      "0.448     Total estimated model params size (MB)\n"
     ]
    },
    {
     "data": {
      "application/vnd.jupyter.widget-view+json": {
       "model_id": "",
       "version_major": 2,
       "version_minor": 0
      },
      "text/plain": [
       "Validation sanity check: 0it [00:00, ?it/s]"
      ]
     },
     "metadata": {},
     "output_type": "display_data"
    },
    {
     "data": {
      "application/vnd.jupyter.widget-view+json": {
       "model_id": "3379af089e9a4bf384c99fea69c664bb",
       "version_major": 2,
       "version_minor": 0
      },
      "text/plain": [
       "Training: 0it [00:00, ?it/s]"
      ]
     },
     "metadata": {},
     "output_type": "display_data"
    },
    {
     "data": {
      "application/vnd.jupyter.widget-view+json": {
       "model_id": "",
       "version_major": 2,
       "version_minor": 0
      },
      "text/plain": [
       "Validating: 0it [00:00, ?it/s]"
      ]
     },
     "metadata": {},
     "output_type": "display_data"
    },
    {
     "data": {
      "application/vnd.jupyter.widget-view+json": {
       "model_id": "",
       "version_major": 2,
       "version_minor": 0
      },
      "text/plain": [
       "Validating: 0it [00:00, ?it/s]"
      ]
     },
     "metadata": {},
     "output_type": "display_data"
    },
    {
     "data": {
      "application/vnd.jupyter.widget-view+json": {
       "model_id": "",
       "version_major": 2,
       "version_minor": 0
      },
      "text/plain": [
       "Validating: 0it [00:00, ?it/s]"
      ]
     },
     "metadata": {},
     "output_type": "display_data"
    }
   ],
   "source": [
    "with warnings.catch_warnings():\n",
    "    warnings.simplefilter(\"ignore\")\n",
    "    trainer.fit(model, datamodule=dm)"
   ]
  },
  {
   "cell_type": "code",
   "execution_count": null,
   "id": "736f5a66",
   "metadata": {},
   "outputs": [
    {
     "name": "stderr",
     "output_type": "stream",
     "text": [
      "/home/ojas/anaconda3/envs/ai/lib/python3.9/site-packages/nbconvert/filters/strings.py:22: DeprecationWarning: defusedxml.cElementTree is deprecated, import from defusedxml.ElementTree instead.\n",
      "  from defusedxml import cElementTree as ElementTree\n",
      "/home/ojas/anaconda3/envs/ai/lib/python3.9/site-packages/nbconvert/exporters/html.py:77: DeprecationWarning: 'contextfilter' is renamed to 'pass_context', the old name will be removed in Jinja 3.1.\n",
      "  def markdown2html(self, context, source):\n"
     ]
    },
    {
     "name": "stdout",
     "output_type": "stream",
     "text": [
      "Converted 01_nn_utils.ipynb.\n",
      "Converted 01b_data_loaders_pl.ipynb.\n",
      "Converted 01c_grad_utils.ipynb.\n",
      "Converted 01d_hessian_free.ipynb.\n",
      "Converted 02_maml_pl.ipynb.\n",
      "Converted 02b_iMAML.ipynb.\n",
      "Converted 03_protonet_pl.ipynb.\n",
      "Converted 04_cactus.ipynb.\n",
      "Converted index.ipynb.\n"
     ]
    }
   ],
   "source": [
    "from nbdev.export import notebook2script; notebook2script()"
   ]
  },
  {
   "cell_type": "code",
   "execution_count": null,
   "id": "e3a49bbc",
   "metadata": {},
   "outputs": [],
   "source": []
  }
 ],
 "metadata": {
  "kernelspec": {
   "display_name": "Python 3 (ipykernel)",
   "language": "python",
   "name": "python3"
  }
 },
 "nbformat": 4,
 "nbformat_minor": 5
}
