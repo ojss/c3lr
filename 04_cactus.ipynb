{
 "cells": [
  {
   "cell_type": "code",
   "execution_count": null,
   "id": "6473cb51-04f6-46ef-801c-0b0587ec6b18",
   "metadata": {},
   "outputs": [],
   "source": [
    "#default_exp cactus\n",
    "#export\n",
    "import os\n",
    "import tempfile\n",
    "\n",
    "from dataclasses import dataclass\n",
    "import kornia as K\n",
    "\n",
    "import numpy as np\n",
    "import matplotlib.pyplot as plt\n",
    "import torchvision\n",
    "import torchvision.transforms as tfms\n",
    "import torch\n",
    "import torch.nn as nn\n",
    "import torch.nn.functional as F\n",
    "import torchnet\n",
    "import pytorch_lightning as pl\n",
    "from tqdm.auto import tqdm\n",
    "\n",
    "\n",
    "from collections import OrderedDict, defaultdict\n",
    "from functools import partial\n",
    "from torch.utils.data import Dataset, DataLoader\n",
    "\n",
    "from torchnet.dataset import ListDataset, TransformDataset\n",
    "from torchmeta.utils.data import BatchMetaDataLoader\n",
    "from sklearn.cluster import KMeans\n",
    "\n",
    "from unsupervised_meta_learning.nn_utils import c_imshow"
   ]
  },
  {
   "cell_type": "code",
   "execution_count": null,
   "id": "32a2b314-e1cb-4f9b-a669-a37524d5222b",
   "metadata": {},
   "outputs": [],
   "source": [
    "%matplotlib inline"
   ]
  },
  {
   "cell_type": "code",
   "execution_count": null,
   "id": "abc9cca5-edcf-4617-ba5a-0a060da0dbdc",
   "metadata": {},
   "outputs": [],
   "source": [
    "#export\n",
    "class Partition():\n",
    "    def __init__(self, labels, n_way, n_shot, n_query):\n",
    "        partition = defaultdict(list)\n",
    "        cleaned_partition = {}\n",
    "        for ind, label in enumerate(labels):\n",
    "            partition[label].append(ind)\n",
    "        for label in list(partition.keys()):\n",
    "            if len(partition[label]) >= n_shot + n_query:\n",
    "                cleaned_partition[label] = np.array(partition[label], dtype=np.int)\n",
    "        self.partition = cleaned_partition\n",
    "        self.subset_ids = np.array(list(cleaned_partition.keys()))\n",
    "\n",
    "    def __getitem__(self, key):\n",
    "        return self.partition[key]"
   ]
  },
  {
   "cell_type": "code",
   "execution_count": null,
   "id": "0350b471-3cfe-4ec4-94a7-22ed8e67a20f",
   "metadata": {},
   "outputs": [],
   "source": [
    "#export\n",
    "class CactusTaskDataset(Dataset):\n",
    "    def __init__(self, data, partitions, n_way, n_shot, n_query, length):\n",
    "        self.data = data\n",
    "        self.partitions = partitions\n",
    "        self.n_way = n_way\n",
    "        self.n_shot = n_shot\n",
    "        self.n_query = n_query\n",
    "        self.length = length\n",
    "        self.iter = 0\n",
    "\n",
    "    def reset(self):\n",
    "        self.iter = 0\n",
    "\n",
    "    def __iter__(self):\n",
    "        return self\n",
    "\n",
    "    def __len__(self):\n",
    "        return self.length\n",
    "    \n",
    "    def __getitem__(self, idx):\n",
    "        return self.__next__()\n",
    "\n",
    "    def __next__(self):\n",
    "        if self.iter == self.length:\n",
    "            raise StopIteration\n",
    "        self.iter += 1\n",
    "\n",
    "        i_partition = torch.randint(low=0, high=len(self.partitions), size=(1,), dtype=torch.int)\n",
    "        partition = self.partitions[i_partition]\n",
    "        sampled_subset_ids = np.random.choice(partition.subset_ids, size=self.n_way, replace=False)\n",
    "        xs, xq = [], []\n",
    "        for subset_id in sampled_subset_ids:\n",
    "            indices = np.random.choice(partition[subset_id], self.n_shot + self.n_query, replace=False)\n",
    "            x = self.data[indices]\n",
    "            x = x.astype(np.float32) / 255.0\n",
    "            if x.shape[1] != 1 and x.shape[1] != 3:\n",
    "                x = np.transpose(x, [0, 3, 1, 2])\n",
    "            x = torch.from_numpy(x)\n",
    "            xs.append(x[:self.n_shot])\n",
    "            xq.append(x[self.n_shot:])\n",
    "        xs = torch.stack(xs, dim=0)\n",
    "        xq = torch.stack(xq, dim=0)\n",
    "\n",
    "        return {'train': xs, 'test': xq}"
   ]
  },
  {
   "cell_type": "code",
   "execution_count": null,
   "id": "6a66ff54-4844-4a08-8ef2-c03c70f5a10d",
   "metadata": {},
   "outputs": [],
   "source": [
    "#export\n",
    "def get_partitions_kmeans(encodings, n_way, n_shot, n_query, random_scaling=True, n_partitions=100, n_clusters=500):\n",
    "    tmp_dir = tempfile.TemporaryDirectory()\n",
    "    os.environ['JOBLIB_TEMP_FOLDER'] = tmp_dir.name  # default runs out of space for parallel processing\n",
    "    \n",
    "    encodings_list = [encodings]\n",
    "    \n",
    "    if random_scaling:\n",
    "        n_clusters_list = [n_clusters]\n",
    "        for i in range(n_partitions - 1):\n",
    "            weight_vector = np.random.uniform(low=0., high=1., size=encodings.shape[1])\n",
    "            encodings_list.append(np.multiply(encodings, weight_vector))\n",
    "            \n",
    "    else:\n",
    "        n_clusters_list = [n_clusters] * n_partitions\n",
    "    \n",
    "    assert len(encodings_list) * len(n_clusters_list) == n_partitions\n",
    "    \n",
    "    if n_partitions != 1:\n",
    "        n_init = 3\n",
    "        init = 'k-means++'\n",
    "    else:\n",
    "        n_init = 10\n",
    "        init = 'k-means++'\n",
    "    \n",
    "    print('Number of encodings: {}, number of n_clusters: {}, number of inits: '.format(len(encodings_list),\n",
    "                                                                                        len(n_clusters_list)), n_init)\n",
    "    kmeans_list = []\n",
    "    \n",
    "    for n_clusters in tqdm(n_clusters_list, desc='get_partitions_kmeans_n_clusters'):\n",
    "        for encodings in tqdm(encodings_list, desc='get_partitions_kmeans_encodings'):\n",
    "            while True:\n",
    "                kmeans = KMeans(n_clusters=n_clusters,\n",
    "                                init=init,\n",
    "                                n_init=n_init,\n",
    "                                max_iter=3000).fit(encodings)\n",
    "                uniques, counts = np.unique(kmeans.labels_, return_counts=True)\n",
    "                num_big_enough_clusters = np.sum(counts >= n_shot + n_query)\n",
    "                \n",
    "                if num_big_enough_clusters > .8 * n_clusters:\n",
    "                    break\n",
    "                else:\n",
    "                    tqdm.write(\"Too few classes ({}) with greater than {} examples.\".format(num_big_enough_clusters,\n",
    "                                                                                            n_shot + n_query))\n",
    "                    tqdm.write('Frequency: {}'.format(counts))\n",
    "            kmeans_list.append(kmeans)\n",
    "    partitions = []\n",
    "    for kmeans in kmeans_list:\n",
    "        partitions.append(Partition(labels=kmeans.labels_, n_way=n_way, n_shot=n_shot, n_query=n_query))\n",
    "    tmp_dir.cleanup()\n",
    "    return partitions"
   ]
  },
  {
   "cell_type": "code",
   "execution_count": null,
   "id": "dc29f85d-c36a-48dc-b9b2-d536411ffa21",
   "metadata": {},
   "outputs": [],
   "source": [
    "#export\n",
    "@dataclass\n",
    "class DataOpt:\n",
    "    dataset: str = 'omniglot'\n",
    "    encoder='acai'\n",
    "    test_way: int = None\n",
    "    way: int = 5\n",
    "    test_shot: int = None\n",
    "    shot: int = 1\n",
    "    test_query: int = None\n",
    "    query: int = 15\n",
    "    test_episodes: int = None\n",
    "    test_mode:int = None\n",
    "    partitions:int = 100\n",
    "    clusters:int = 500\n",
    "    train_mode: str = 'kmeans'\n",
    "    train_episodes: int = 100\n",
    "\n",
    "@dataclass\n",
    "class LoaderOpt:\n",
    "    data: DataOpt"
   ]
  },
  {
   "cell_type": "code",
   "execution_count": null,
   "id": "db0994ad-5147-4439-b1f5-e0e393027111",
   "metadata": {},
   "outputs": [],
   "source": [
    "dummy = DataOpt(\n",
    "    dataset='omniglot',\n",
    "    way=20,\n",
    "    shot=1,\n",
    "    query=15,\n",
    "    train_mode='kmeans',\n",
    "    train_episodes=100,\n",
    "    partitions=1,\n",
    "    clusters=500\n",
    ")\n",
    "l = LoaderOpt(data=dummy)"
   ]
  },
  {
   "cell_type": "code",
   "execution_count": null,
   "id": "df39978c-874f-4867-ad3d-1d4233e2e4be",
   "metadata": {},
   "outputs": [],
   "source": [
    "#export\n",
    "def load(opt:LoaderOpt, splits, data_dir):\n",
    "    encodings_dir = os.path.join(data_dir, '{}_encodings'.format(opt.data.encoder))\n",
    "    filenames = os.listdir(encodings_dir)\n",
    "    \n",
    "    ret = {}\n",
    "    \n",
    "    for split in splits:\n",
    "        if split in ['val', 'test'] and opt.data.test_way != 0:\n",
    "            n_way = opt.data.test_way\n",
    "        else:\n",
    "            n_way = opt.data.way\n",
    "\n",
    "        if split in ['val', 'test'] and opt.data.test_shot != 0:\n",
    "            n_support = opt.data.test_shot\n",
    "        else:\n",
    "            n_support = opt.data.shot\n",
    "\n",
    "        if split in ['val', 'test'] and opt.data.test_query != 0:\n",
    "            n_query = opt.data.test_query\n",
    "        else:\n",
    "            n_query = opt.data.query\n",
    "\n",
    "        if split in ['val', 'test']:\n",
    "            n_episodes = opt.data.test_episodes\n",
    "            mode = opt.data.test_mode\n",
    "        else:\n",
    "            n_episodes = opt.data.train_episodes\n",
    "            mode = opt.data.train_mode\n",
    "        \n",
    "        split_filename = [filename for filename in filenames if opt.data.dataset in filename and split in filename]\n",
    "        split_filename = os.path.join(encodings_dir, split_filename[0])\n",
    "        split_data = np.load(split_filename)\n",
    "        images = split_data['X']    # (index, H, W, C)\n",
    "        labels = split_data['Y']\n",
    "        encodings = split_data['Z']\n",
    "        \n",
    "        if mode == 'ground_truth':\n",
    "            if opt.data.dataset == 'celeba':\n",
    "#                 TODO: need to change this part\n",
    "                annotations_filename = os.path.join(DATA_DIR, 'celeba/cropped/Anno/list_attr_celeba.txt')\n",
    "                partitions = celeba_partitions(labels=labels, split=split, annotations_filename=annotations_filename, n_way=n_way, n_shot=n_support, n_query=n_query)\n",
    "            else:\n",
    "                partitions = [Partition(labels=labels, n_way=n_way, n_shot=n_support, n_query=n_query)]\n",
    "\n",
    "        elif mode == 'kmeans':\n",
    "            partitions = get_partitions_kmeans(encodings=encodings, n_way=n_way, n_shot=n_support, n_query=n_query, n_partitions=opt.data.partitions, n_clusters=opt.data.clusters)\n",
    "\n",
    "        elif mode == 'random':\n",
    "            partitions = [Partition(labels=np.random.choice(opt.data.clusters, size=labels.shape, replace=True), n_way=n_way, n_shot=n_support, n_query=n_query) for i in range(opt.data.partitions)]\n",
    "        else:\n",
    "            raise ValueError\n",
    "        ret[split] = CactusTaskDataset(data=images,\n",
    "                                partitions=partitions,\n",
    "                                n_way=n_way,\n",
    "                                n_shot=n_support,\n",
    "                                n_query=n_query,\n",
    "                                length=n_episodes)\n",
    "\n",
    "    return ret\n",
    "    "
   ]
  },
  {
   "cell_type": "code",
   "execution_count": null,
   "id": "c99f6bb0-66d2-4643-a9e0-df7a14e0da07",
   "metadata": {},
   "outputs": [
    {
     "name": "stdout",
     "output_type": "stream",
     "text": [
      "Number of encodings: 1, number of n_clusters: 1, number of inits:  10\n"
     ]
    },
    {
     "data": {
      "application/vnd.jupyter.widget-view+json": {
       "model_id": "1b4b3f921f264cfaaba05bb2e23b4e49",
       "version_major": 2,
       "version_minor": 0
      },
      "text/plain": [
       "get_partitions_kmeans_n_clusters:   0%|          | 0/1 [00:00<?, ?it/s]"
      ]
     },
     "metadata": {},
     "output_type": "display_data"
    },
    {
     "data": {
      "application/vnd.jupyter.widget-view+json": {
       "model_id": "938b819baac04f3796be159ce28467c0",
       "version_major": 2,
       "version_minor": 0
      },
      "text/plain": [
       "get_partitions_kmeans_encodings:   0%|          | 0/1 [00:00<?, ?it/s]"
      ]
     },
     "metadata": {},
     "output_type": "display_data"
    },
    {
     "name": "stderr",
     "output_type": "stream",
     "text": [
      "<ipython-input-3-57a1d7989bcd>:10: DeprecationWarning: `np.int` is a deprecated alias for the builtin `int`. To silence this warning, use `int` by itself. Doing this will not modify any behavior and is safe. When replacing `np.int`, you may wish to use e.g. `np.int64` or `np.int32` to specify the precision. If you wish to review your current use, check the release note link for additional information.\n",
      "Deprecated in NumPy 1.20; for more details and guidance: https://numpy.org/devdocs/release/1.20.0-notes.html#deprecations\n",
      "  cleaned_partition[label] = np.array(partition[label], dtype=np.int)\n"
     ]
    }
   ],
   "source": [
    "r = load(l, ['train'], data_dir='data/cactus_data/')"
   ]
  },
  {
   "cell_type": "code",
   "execution_count": null,
   "id": "5b519b34-6bb4-4b0d-a154-613f3c5e8c57",
   "metadata": {},
   "outputs": [
    {
     "data": {
      "text/plain": [
       "torch.Size([8, 5, 1, 28, 28])"
      ]
     },
     "execution_count": null,
     "metadata": {},
     "output_type": "execute_result"
    }
   ],
   "source": [
    "torchnet.dataset.BatchDataset(r['train'], 8)[0]['train'].squeeze(2).shape"
   ]
  },
  {
   "cell_type": "code",
   "execution_count": null,
   "id": "79d16e1d-1c76-4a26-b66e-5a8e652b7c92",
   "metadata": {},
   "outputs": [
    {
     "data": {
      "text/plain": [
       "<torchnet.dataset.transformdataset.TransformDataset at 0x7f5a4720f250>"
      ]
     },
     "execution_count": null,
     "metadata": {},
     "output_type": "execute_result"
    }
   ],
   "source": [
    "torchnet.dataset.TransformDataset(torchnet.dataset.BatchDataset(r['train'], 8),\n",
    "                                 lambda x: {'train': x['train'].squeeze(2),\n",
    "                                            'test': x['test'].view(8, -1, 1, 28, 28)\n",
    "                                           })"
   ]
  },
  {
   "cell_type": "code",
   "execution_count": null,
   "id": "9a6264f1-805c-49eb-a8fd-286b13b6f258",
   "metadata": {},
   "outputs": [],
   "source": [
    "r['train'].reset()"
   ]
  },
  {
   "cell_type": "code",
   "execution_count": null,
   "id": "fb3bda1c-29e6-41b6-b338-7f5a1de77585",
   "metadata": {},
   "outputs": [
    {
     "data": {
      "text/plain": [
       "<__main__.CactusTaskDataset at 0x7f5b942aaac0>"
      ]
     },
     "execution_count": null,
     "metadata": {},
     "output_type": "execute_result"
    }
   ],
   "source": [
    "r['train']"
   ]
  },
  {
   "cell_type": "code",
   "execution_count": null,
   "id": "8ebd5835-fb51-4a13-9fce-177c9a3f0bcb",
   "metadata": {},
   "outputs": [],
   "source": [
    "dl = DataLoader(r['train'], batch_size=8)"
   ]
  },
  {
   "cell_type": "code",
   "execution_count": null,
   "id": "65448ddf-ebd9-4e38-93ac-4a7b2affaee6",
   "metadata": {},
   "outputs": [
    {
     "data": {
      "text/plain": [
       "torch.Size([8, 5, 1, 1, 28, 28])"
      ]
     },
     "execution_count": null,
     "metadata": {},
     "output_type": "execute_result"
    }
   ],
   "source": [
    "next(iter(dl))['train'].shape"
   ]
  },
  {
   "cell_type": "code",
   "execution_count": null,
   "id": "aaab6900-2369-4a2b-8e29-fa27a992a72a",
   "metadata": {},
   "outputs": [
    {
     "ename": "NameError",
     "evalue": "name 'xs' is not defined",
     "output_type": "error",
     "traceback": [
      "\u001b[0;31m---------------------------------------------------------------------------\u001b[0m",
      "\u001b[0;31mNameError\u001b[0m                                 Traceback (most recent call last)",
      "\u001b[0;32m<ipython-input-16-e7a508905bc4>\u001b[0m in \u001b[0;36m<module>\u001b[0;34m\u001b[0m\n\u001b[0;32m----> 1\u001b[0;31m \u001b[0mc_imshow\u001b[0m\u001b[0;34m(\u001b[0m\u001b[0mtorchvision\u001b[0m\u001b[0;34m.\u001b[0m\u001b[0mutils\u001b[0m\u001b[0;34m.\u001b[0m\u001b[0mmake_grid\u001b[0m\u001b[0;34m(\u001b[0m\u001b[0mxs\u001b[0m\u001b[0;34m[\u001b[0m\u001b[0;34m'train'\u001b[0m\u001b[0;34m]\u001b[0m\u001b[0;34m[\u001b[0m\u001b[0;36m3\u001b[0m\u001b[0;34m]\u001b[0m\u001b[0;34m)\u001b[0m\u001b[0;34m)\u001b[0m\u001b[0;34m\u001b[0m\u001b[0;34m\u001b[0m\u001b[0m\n\u001b[0m",
      "\u001b[0;31mNameError\u001b[0m: name 'xs' is not defined"
     ]
    }
   ],
   "source": [
    "c_imshow(torchvision.utils.make_grid(xs['train'][3]))"
   ]
  },
  {
   "cell_type": "code",
   "execution_count": null,
   "id": "9337fd35-1858-4c53-bbdd-a7abee6f136a",
   "metadata": {},
   "outputs": [
    {
     "data": {
      "text/plain": [
       "torch.Size([8, 75, 1, 28, 28])"
      ]
     },
     "execution_count": null,
     "metadata": {},
     "output_type": "execute_result"
    }
   ],
   "source": [
    "xs['test'].view(8, -1, 1, 28, 28)"
   ]
  },
  {
   "cell_type": "code",
   "execution_count": null,
   "id": "03099613-7f9e-45c8-b688-b838296b5673",
   "metadata": {},
   "outputs": [
    {
     "data": {
      "image/png": "[encoded data removed]",
      "text/plain": [
       "<Figure size 432x288 with 1 Axes>"
      ]
     },
     "metadata": {
      "needs_background": "light"
     },
     "output_type": "display_data"
    }
   ],
   "source": [
    "c_imshow(torchvision.utils.make_grid(xs['test'].view(8, -1, 1, 28, 28)[3]))"
   ]
  },
  {
   "cell_type": "code",
   "execution_count": null,
   "id": "fcbc9df0-5981-4634-9c76-f3a0dde02aa8",
   "metadata": {},
   "outputs": [],
   "source": [
    "#export\n",
    "class CactusDataModule(pl.LightningDataModule):\n",
    "    def __init__(self,\n",
    "                 ways,\n",
    "                 shots,\n",
    "                 query,\n",
    "                 train_mode='kmeans',\n",
    "                 train_episodes=100,\n",
    "                 partitions=100,\n",
    "                 clusters=500,\n",
    "                 batch_size=1,\n",
    "                 use_precomputed=False,\n",
    "                 precomputed_partition_path=None,\n",
    "                 dataset='omniglot'):\n",
    "        self.use_precomputed = use_precomputed\n",
    "        self.precomputed_partition_path = precomputed_partition_path\n",
    "        self.dataset = dataset\n",
    "        self.ways = ways\n",
    "        self.shots = shots\n",
    "        self.query_shots = query\n",
    "        self.train_mode = train_mode\n",
    "        self.train_episodes = train_episodes\n",
    "        self.partitions = partitions\n",
    "        self.clusters = clusters\n",
    "    \n",
    "    def setup(self):\n",
    "        self.data_opt = DataOpt(\n",
    "            dataset=self.dataset,\n",
    "            way=self.ways,\n",
    "            shot=self.shots,\n",
    "            query=self.query_shots,\n",
    "            train_mode=self.train_mode,\n",
    "            train_episodes=self.train_episodes,\n",
    "            partitions=self.partitions,\n",
    "            clusters=self.clusters\n",
    "        )\n",
    "        self.loader_opt = LoaderOpt(data=dummy)\n",
    "        self.train_ds = torchnet.dataset.TransformDataset(torchnet.dataset.BatchDataset(r['train'], self.batch_size),\n",
    "                                 lambda x: {'train': x['train'].squeeze(2),\n",
    "                                            'test': x['test'].view(self.batch_size, -1, 1, 28, 28)\n",
    "                                           })\n",
    "        \n",
    "    def train_dataloader(self):\n",
    "        return DataLoader(\n",
    "            self.train_ds\n",
    "        )\n",
    "    \n",
    "    def val_dataloader(self):\n",
    "        pass\n",
    "    \n",
    "    def test_dataloader(self):\n",
    "        pass"
   ]
  },
  {
   "cell_type": "code",
   "execution_count": null,
   "id": "ee7690cc-5291-4bbe-ba23-ae6d1523988e",
   "metadata": {},
   "outputs": [],
   "source": [
    "dm = CactusDataModule(ways=5, shots=1, query=15)"
   ]
  },
  {
   "cell_type": "code",
   "execution_count": null,
   "id": "566a6a83-14a2-4a25-8ddb-a4679011bcaf",
   "metadata": {},
   "outputs": [
    {
     "name": "stdout",
     "output_type": "stream",
     "text": [
      "Converted 01_nn_utils.ipynb.\n",
      "Converted 01b_data_loaders_pl.ipynb.\n",
      "Converted 01c_grad_utils.ipynb.\n",
      "Converted 01d_hessian_free.ipynb.\n",
      "Converted 02_maml_pl.ipynb.\n",
      "Converted 02b_iMAML.ipynb.\n",
      "Converted 03_protonet_pl.ipynb.\n",
      "Converted 04_cactus.ipynb.\n",
      "Converted index.ipynb.\n"
     ]
    }
   ],
   "source": [
    "from nbdev.export import notebook2script; notebook2script()"
   ]
  },
  {
   "cell_type": "code",
   "execution_count": null,
   "id": "bc5b2454-c791-4953-b2cc-72b235f5f713",
   "metadata": {},
   "outputs": [],
   "source": []
  }
 ],
 "metadata": {
  "kernelspec": {
   "display_name": "Python 3",
   "language": "python",
   "name": "python3"
  }
 },
 "nbformat": 4,
 "nbformat_minor": 5
}
