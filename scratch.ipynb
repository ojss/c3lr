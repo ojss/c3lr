{
 "cells": [
  {
   "cell_type": "code",
   "execution_count": 9,
   "source": [
    "import warnings\n",
    "import torch\n",
    "import torch.nn as nn\n",
    "import torch.nn.functional as F\n",
    "\n",
    "import pytorch_lightning as pl\n",
    "from torch.utils.data import DataLoader\n",
    "from pytorch_lightning.loggers import WandbLogger\n",
    "from unsupervised_meta_learning.proto_utils import prototypical_loss, get_prototypes, CAE\n",
    "from unsupervised_meta_learning.pl_dataloaders import UnlabelledDataModule, UnlabelledDataset\n",
    "from unsupervised_meta_learning.protoclr import ProtoCLR"
   ],
   "outputs": [],
   "metadata": {}
  },
  {
   "cell_type": "code",
   "execution_count": 2,
   "source": [
    "dm = UnlabelledDataModule('omniglot', './data/untarred/', split='train', transform=None,\n",
    "                 n_support=1, n_query=3, n_images=None, n_classes=None, batch_size=50,\n",
    "                 seed=10)\n",
    "\n",
    "model = ProtoCLR(model=CAE(1, 64, hidden_size=64), n_support=1, n_query=3, batch_size=50, lr_decay_step=25000, lr_decay_rate=.5, ae=True)"
   ],
   "outputs": [],
   "metadata": {}
  },
  {
   "cell_type": "code",
   "execution_count": 5,
   "source": [
    "logger = WandbLogger(\n",
    "    project='ProtoCLR+AE',\n",
    "    config={\n",
    "        'batch_size': 50,\n",
    "        'steps': 100,\n",
    "        'dataset': \"omniglot\"\n",
    "    }\n",
    ")\n",
    "trainer = pl.Trainer(\n",
    "        profiler='simple',\n",
    "        max_epochs=10000,\n",
    "        fast_dev_run=False,\n",
    "        num_sanity_val_steps=2, gpus=1, #logger=logger\n",
    ")"
   ],
   "outputs": [
    {
     "output_type": "stream",
     "name": "stderr",
     "text": [
      "GPU available: True, used: True\n",
      "TPU available: False, using: 0 TPU cores\n"
     ]
    }
   ],
   "metadata": {}
  },
  {
   "cell_type": "code",
   "execution_count": 6,
   "source": [
    "ae = CAE(1, 64, hidden_size=64)"
   ],
   "outputs": [],
   "metadata": {}
  },
  {
   "cell_type": "code",
   "execution_count": 27,
   "source": [
    "dataset_train = UnlabelledDataset(\n",
    "    dataset='omniglot',\n",
    "    datapath='./data/untarred/',\n",
    "    split='train',\n",
    "    n_support=1,\n",
    "    n_query=3\n",
    ")\n",
    "dataloader_train = DataLoader(dataset_train,\n",
    "                                      batch_size=50,\n",
    "                                      shuffle=True,\n",
    "                                      num_workers=8,\n",
    "                                      pin_memory=torch.cuda.is_available())"
   ],
   "outputs": [],
   "metadata": {}
  },
  {
   "cell_type": "code",
   "execution_count": 28,
   "source": [
    "x = next(iter(dataloader_train))"
   ],
   "outputs": [],
   "metadata": {}
  },
  {
   "cell_type": "code",
   "execution_count": 29,
   "source": [
    "data = x['data'] # [batch_size x ways x shots x image_dim]"
   ],
   "outputs": [],
   "metadata": {}
  },
  {
   "cell_type": "code",
   "execution_count": 30,
   "source": [
    "data = data.unsqueeze(0)"
   ],
   "outputs": [],
   "metadata": {}
  },
  {
   "cell_type": "code",
   "execution_count": 31,
   "source": [
    "data.shape"
   ],
   "outputs": [
    {
     "output_type": "execute_result",
     "data": {
      "text/plain": [
       "torch.Size([1, 50, 4, 1, 28, 28])"
      ]
     },
     "metadata": {},
     "execution_count": 31
    }
   ],
   "metadata": {}
  },
  {
   "cell_type": "code",
   "execution_count": 32,
   "source": [
    "batch_size = data.size(0)\n",
    "ways = data.size(1)"
   ],
   "outputs": [],
   "metadata": {}
  },
  {
   "cell_type": "code",
   "execution_count": 33,
   "source": [
    "batch_size, ways"
   ],
   "outputs": [
    {
     "output_type": "execute_result",
     "data": {
      "text/plain": [
       "(1, 50)"
      ]
     },
     "metadata": {},
     "execution_count": 33
    }
   ],
   "metadata": {}
  },
  {
   "cell_type": "code",
   "execution_count": 34,
   "source": [
    "x_support = data[:,:,:1]\n",
    "x_support = x_support.reshape((batch_size, ways * 1, *x_support.shape[-3:])) # e.g. [1,50*n_support,*(3,84,84)]\n",
    "x_query = data[:,:,1:]\n",
    "x_query = x_query.reshape((batch_size, ways * 3, *x_query.shape[-3:])) # e.g. [1,50*n_query,*(3,84,84)]\n",
    "\n",
    "# Create dummy query labels\n",
    "y_query = torch.arange(ways).unsqueeze(0).unsqueeze(2) # batch and shot dim\n",
    "y_query = y_query.repeat(batch_size, 1, 1)\n",
    "y_query = y_query.view(batch_size, -1).to('cuda')\n",
    "\n",
    "y_support = torch.arange(ways).unsqueeze(0).unsqueeze(2) # batch and shot dim\n",
    "y_support = y_support.repeat(batch_size, 1, 1)\n",
    "y_support = y_support.view(batch_size, -1).to('cuda')"
   ],
   "outputs": [],
   "metadata": {}
  },
  {
   "cell_type": "code",
   "execution_count": 38,
   "source": [
    "# Extract features (first dim is batch dim)\n",
    "x = torch.cat([x_support, x_query], 1) # e.g. [1,50*(n_support+n_query),*(3,84,84)]\n",
    "z, r = ae.forward(x)\n",
    "z_support = z[:,:ways * 1] # e.g. [1,50*n_support,*(3,84,84)]\n",
    "z_query = z[:,ways * 1:] # e.g. [1,50*n_query,*(3,84,84)]\n",
    "\n",
    "r_supp = r[:,:ways * 1]\n",
    "r_query = r[:,ways * 1:]"
   ],
   "outputs": [],
   "metadata": {}
  },
  {
   "cell_type": "code",
   "execution_count": 39,
   "source": [
    "r_supp.shape"
   ],
   "outputs": [
    {
     "output_type": "execute_result",
     "data": {
      "text/plain": [
       "torch.Size([1, 50, 1, 28, 28])"
      ]
     },
     "metadata": {},
     "execution_count": 39
    }
   ],
   "metadata": {}
  },
  {
   "cell_type": "code",
   "execution_count": 40,
   "source": [
    "r_query.shape"
   ],
   "outputs": [
    {
     "output_type": "execute_result",
     "data": {
      "text/plain": [
       "torch.Size([1, 150, 1, 28, 28])"
      ]
     },
     "metadata": {},
     "execution_count": 40
    }
   ],
   "metadata": {}
  },
  {
   "cell_type": "code",
   "execution_count": 49,
   "source": [
    "rs1 = r_supp.view(1, 50, 1, 1, 28, 28)[0][0]"
   ],
   "outputs": [],
   "metadata": {}
  },
  {
   "cell_type": "code",
   "execution_count": 52,
   "source": [
    "rq1 = r_query.view(1, 50, 3, 1, 28, 28)[0][0]"
   ],
   "outputs": [],
   "metadata": {}
  },
  {
   "cell_type": "code",
   "execution_count": 88,
   "source": [
    "F.mse_loss(rs1, rq1, reduction='none').sum()"
   ],
   "outputs": [
    {
     "output_type": "stream",
     "name": "stderr",
     "text": [
      "/tmp/ipykernel_616/1915248140.py:1: UserWarning: Using a target size (torch.Size([3, 1, 28, 28])) that is different to the input size (torch.Size([1, 1, 28, 28])). This will likely lead to incorrect results due to broadcasting. Please ensure they have the same size.\n",
      "  F.mse_loss(rs1, rq1, reduction='none').sum()\n"
     ]
    },
    {
     "output_type": "execute_result",
     "data": {
      "text/plain": [
       "tensor(6.7648e-10, grad_fn=<SumBackward0>)"
      ]
     },
     "metadata": {},
     "execution_count": 88
    }
   ],
   "metadata": {}
  },
  {
   "cell_type": "code",
   "execution_count": 81,
   "source": [
    "a = (rs1[0]- rq1[0])"
   ],
   "outputs": [],
   "metadata": {}
  },
  {
   "cell_type": "code",
   "execution_count": 76,
   "source": [
    "b = (rs1[0]- rq1[1])"
   ],
   "outputs": [],
   "metadata": {}
  },
  {
   "cell_type": "code",
   "execution_count": 78,
   "source": [
    "c = (rs1[0]- rq1[2])"
   ],
   "outputs": [],
   "metadata": {}
  },
  {
   "cell_type": "code",
   "execution_count": 85,
   "source": [
    "(a**2 + b ** 2+ c**2).sum(dim=[1,2])"
   ],
   "outputs": [
    {
     "output_type": "execute_result",
     "data": {
      "text/plain": [
       "tensor([6.7648e-10], grad_fn=<SumBackward1>)"
      ]
     },
     "metadata": {},
     "execution_count": 85
    }
   ],
   "metadata": {}
  }
 ],
 "metadata": {
  "kernelspec": {
   "name": "python3",
   "display_name": "Python 3.9.5 64-bit ('base': conda)"
  },
  "language_info": {
   "codemirror_mode": {
    "name": "ipython",
    "version": 3
   },
   "file_extension": ".py",
   "mimetype": "text/x-python",
   "name": "python",
   "nbconvert_exporter": "python",
   "pygments_lexer": "ipython3",
   "version": "3.9.5"
  },
  "interpreter": {
   "hash": "44718b861d9966b2ec78810d44675c48b52047f21fbeb56bff4b6ca04ed566c1"
  }
 },
 "nbformat": 4,
 "nbformat_minor": 5
}