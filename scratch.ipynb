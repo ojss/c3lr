{
 "cells": [
  {
   "cell_type": "code",
   "execution_count": 1,
   "id": "0587246d-2771-4100-baf7-3de1172a938e",
   "metadata": {},
   "outputs": [
    {
     "name": "stderr",
     "output_type": "stream",
     "text": [
      "/home/ojas/anaconda3/envs/ai/lib/python3.9/site-packages/pytorch_lightning/metrics/__init__.py:43: LightningDeprecationWarning: `pytorch_lightning.metrics.*` module has been renamed to `torchmetrics.*` and split off to its own package (https://github.com/PyTorchLightning/metrics) since v1.3 and will be removed in v1.5\n",
      "  rank_zero_deprecation(\n"
     ]
    }
   ],
   "source": [
    "import torch\n",
    "import torch.nn as nn\n",
    "\n",
    "from torch.utils.data import DataLoader, Dataset\n",
    "from unsupervised_meta_learning.proto_utils import CNN_4Layer\n",
    "from unsupervised_meta_learning.pl_dataloaders import UnlabelledDataModule, UnlabelledDataset"
   ]
  },
  {
   "cell_type": "code",
   "execution_count": 3,
   "id": "87654abe-c54b-4eff-a827-b1feb896af0b",
   "metadata": {},
   "outputs": [],
   "source": [
    " dataset_train = UnlabelledDataset('omniglot',\n",
    "                                          './data/untarred/', split='train',\n",
    "                                          transform=None,\n",
    "                                          n_images=None,\n",
    "                                          n_classes=None,\n",
    "                                          n_support=1,\n",
    "                                          n_query=3)"
   ]
  },
  {
   "cell_type": "code",
   "execution_count": 4,
   "id": "5e32faff-735d-4629-ac77-11a1259a10a8",
   "metadata": {},
   "outputs": [
    {
     "data": {
      "text/plain": [
       "torch.Size([4, 1, 28, 28])"
      ]
     },
     "execution_count": 4,
     "metadata": {},
     "output_type": "execute_result"
    }
   ],
   "source": [
    "dataset_train[0]['data'].shape"
   ]
  },
  {
   "cell_type": "code",
   "execution_count": 5,
   "id": "b4b50b8d-aa0b-411c-a1bb-2f2f2f087f7e",
   "metadata": {},
   "outputs": [],
   "source": [
    "dataloader_train = DataLoader(dataset_train,\n",
    "                                      batch_size=5,\n",
    "                                      shuffle=True,\n",
    "                                      num_workers=8,\n",
    "                                      pin_memory=torch.cuda.is_available())"
   ]
  },
  {
   "cell_type": "code",
   "execution_count": 6,
   "id": "93032e8c-50c8-42dd-94bf-bdc9d0848488",
   "metadata": {},
   "outputs": [],
   "source": [
    "x = next(iter(dataloader_train))"
   ]
  },
  {
   "cell_type": "code",
   "execution_count": 7,
   "id": "446b17a1-92d2-4a81-b97c-9aadac856b44",
   "metadata": {},
   "outputs": [],
   "source": [
    "data = x['data'] # [batch_size x ways x shots x image_dim]"
   ]
  },
  {
   "cell_type": "code",
   "execution_count": 8,
   "id": "a286bb5c-c905-4180-9dbb-6fcd887317e4",
   "metadata": {},
   "outputs": [],
   "source": [
    "data = data.unsqueeze(0)"
   ]
  },
  {
   "cell_type": "code",
   "execution_count": 9,
   "id": "972a4d56-2bb6-4519-a28a-f099e94a95bb",
   "metadata": {},
   "outputs": [
    {
     "data": {
      "text/plain": [
       "torch.Size([1, 5, 4, 1, 28, 28])"
      ]
     },
     "execution_count": 9,
     "metadata": {},
     "output_type": "execute_result"
    }
   ],
   "source": [
    "data.shape"
   ]
  },
  {
   "cell_type": "code",
   "execution_count": 10,
   "id": "0143d416-2b43-491c-a22d-5c3c51c0fe03",
   "metadata": {},
   "outputs": [],
   "source": [
    "batch_size = data.size(0)\n",
    "ways = data.size(1)"
   ]
  },
  {
   "cell_type": "code",
   "execution_count": 11,
   "id": "b0ba991b-74b5-4a9e-b7bd-e1a57e3468e0",
   "metadata": {},
   "outputs": [
    {
     "data": {
      "text/plain": [
       "(1, 5)"
      ]
     },
     "execution_count": 11,
     "metadata": {},
     "output_type": "execute_result"
    }
   ],
   "source": [
    "batch_size, ways"
   ]
  },
  {
   "cell_type": "code",
   "execution_count": 12,
   "id": "f48d325e-4205-415a-ad32-8f7ff5611e20",
   "metadata": {},
   "outputs": [],
   "source": [
    "x_support = data[:,:,:1]"
   ]
  },
  {
   "cell_type": "code",
   "execution_count": 13,
   "id": "bfdb0ac3-1754-43f0-be47-bd45aeb16e54",
   "metadata": {},
   "outputs": [],
   "source": [
    "x_support = x_support.reshape((batch_size, ways * 1, *x_support.shape[-3:])) # e.g. [1,50*n_support,*(3,84,84)]\n",
    "x_query = data[:,:, 1:]\n",
    "x_query = x_query.reshape((batch_size, ways * 3, *x_query.shape[-3:]))"
   ]
  },
  {
   "cell_type": "code",
   "execution_count": 14,
   "id": "74f8ae34-cbdd-44e9-8471-05dac325f989",
   "metadata": {},
   "outputs": [
    {
     "data": {
      "text/plain": [
       "torch.Size([1, 15, 1, 28, 28])"
      ]
     },
     "execution_count": 14,
     "metadata": {},
     "output_type": "execute_result"
    }
   ],
   "source": [
    "x_query.shape"
   ]
  },
  {
   "cell_type": "code",
   "execution_count": 15,
   "id": "82a7f14f-b822-43bf-a7f4-a4759ade2578",
   "metadata": {},
   "outputs": [
    {
     "data": {
      "text/plain": [
       "torch.Size([1, 5, 1, 28, 28])"
      ]
     },
     "execution_count": 15,
     "metadata": {},
     "output_type": "execute_result"
    }
   ],
   "source": [
    "x_support.shape"
   ]
  },
  {
   "cell_type": "code",
   "execution_count": 16,
   "id": "1ecebf6c-2014-4458-9930-d72d447acdfd",
   "metadata": {},
   "outputs": [],
   "source": [
    "x = torch.cat([x_support, x_query], 1) # e.g. [1,50*(n_support+n_query),*(3,84,84)]"
   ]
  },
  {
   "cell_type": "code",
   "execution_count": 39,
   "id": "a599b6c0-e8c5-4421-ab06-d5b454ab8b5e",
   "metadata": {},
   "outputs": [],
   "source": [
    "class Encoder(nn.Module):\n",
    "\n",
    "    def __init__(self,\n",
    "                 num_input_channels : int,\n",
    "                 base_channel_size : int,\n",
    "                 latent_dim : int,\n",
    "                 act_fn : object = nn.GELU):\n",
    "        \"\"\"\n",
    "        Inputs:\n",
    "            - num_input_channels : Number of input channels of the image. For CIFAR, this parameter is 3\n",
    "            - base_channel_size : Number of channels we use in the first convolutional layers. Deeper layers might use a duplicate of it.\n",
    "            - latent_dim : Dimensionality of latent representation z\n",
    "            - act_fn : Activation function used throughout the encoder network\n",
    "        \"\"\"\n",
    "        super().__init__()\n",
    "        c_hid = base_channel_size\n",
    "        self.net = nn.Sequential(\n",
    "            nn.Conv2d(num_input_channels, c_hid, kernel_size=3, padding=1, stride=2), # 32x32 => 16x16\n",
    "            act_fn(),\n",
    "            nn.Conv2d(c_hid, c_hid, kernel_size=3, padding=1),\n",
    "            act_fn(),\n",
    "            nn.Conv2d(c_hid, 2*c_hid, kernel_size=3, padding=1, stride=2), # 16x16 => 8x8\n",
    "            act_fn(),\n",
    "            nn.Conv2d(2*c_hid, 2*c_hid, kernel_size=3, padding=1),\n",
    "            act_fn(),\n",
    "            nn.Conv2d(2*c_hid, 2*c_hid, kernel_size=3, padding=1, stride=2), # 8x8 => 4x4\n",
    "            act_fn(),\n",
    "            nn.Flatten(), # Image grid to single feature vector\n",
    "            nn.Linear(2*16*c_hid, latent_dim)\n",
    "        )\n",
    "\n",
    "    def forward(self, x):\n",
    "        return self.net(x.view(-1, *x.shape[-3:]))"
   ]
  },
  {
   "cell_type": "code",
   "execution_count": 65,
   "id": "88c2b4d1-7087-4086-865f-5e3ac10727c8",
   "metadata": {},
   "outputs": [],
   "source": [
    "class Decoder(nn.Module):\n",
    "\n",
    "    def __init__(self,\n",
    "                 num_input_channels : int,\n",
    "                 base_channel_size : int,\n",
    "                 latent_dim : int,\n",
    "                 act_fn : object = nn.GELU):\n",
    "        \"\"\"\n",
    "        Inputs:\n",
    "            - num_input_channels : Number of channels of the image to reconstruct. For CIFAR, this parameter is 3\n",
    "            - base_channel_size : Number of channels we use in the last convolutional layers. Early layers might use a duplicate of it.\n",
    "            - latent_dim : Dimensionality of latent representation z\n",
    "            - act_fn : Activation function used throughout the decoder network\n",
    "        \"\"\"\n",
    "        super().__init__()\n",
    "        c_hid = base_channel_size\n",
    "        self.linear = nn.Sequential(\n",
    "            nn.Linear(latent_dim, 2*16*c_hid),\n",
    "            act_fn()\n",
    "        )\n",
    "        self.net = nn.Sequential(\n",
    "            nn.ConvTranspose2d(2*c_hid, 2*c_hid, kernel_size=3, output_padding=1, padding=1, stride=2), # 4x4 => 8x8\n",
    "            act_fn(),\n",
    "            nn.Conv2d(2*c_hid, 2*c_hid, kernel_size=3, padding=1),\n",
    "            act_fn(),\n",
    "            nn.ConvTranspose2d(2*c_hid, c_hid, kernel_size=3, output_padding=1, padding=1, stride=2), # 8x8 => 16x16\n",
    "            act_fn(),\n",
    "            nn.Conv2d(c_hid, c_hid, kernel_size=3, padding=1),\n",
    "            act_fn(),\n",
    "            nn.ConvTranspose2d(c_hid, num_input_channels, kernel_size=3, output_padding=1, padding=1, stride=2), # 16x16 => 32x32\n",
    "            nn.Tanh() # The input images is scaled between -1 and 1, hence the output has to be bounded as well\n",
    "        )\n",
    "\n",
    "    def forward(self, x):\n",
    "        x = self.linear(x)\n",
    "        x = x.reshape(x.shape[0], -1, 4, 4)\n",
    "        x = self.net(x)\n",
    "        return x"
   ]
  },
  {
   "cell_type": "code",
   "execution_count": 66,
   "id": "c24be842-c6c4-4dc3-a246-e30aa847b591",
   "metadata": {},
   "outputs": [],
   "source": [
    "enc = Encoder(num_input_channels=1, base_channel_size=64, latent_dim=64)"
   ]
  },
  {
   "cell_type": "code",
   "execution_count": 67,
   "id": "b7f0f165-f5db-40f7-8713-8651df033d22",
   "metadata": {},
   "outputs": [],
   "source": [
    "dec = Decoder(num_input_channels=1, base_channel_size=64, latent_dim=64)"
   ]
  },
  {
   "cell_type": "code",
   "execution_count": 68,
   "id": "f21ba2f0-1366-4d79-8ec6-d64a1cba5183",
   "metadata": {},
   "outputs": [
    {
     "data": {
      "text/plain": [
       "torch.Size([20, 1, 32, 32])"
      ]
     },
     "execution_count": 68,
     "metadata": {},
     "output_type": "execute_result"
    }
   ],
   "source": [
    "dec(enc(x)).shape"
   ]
  },
  {
   "cell_type": "code",
   "execution_count": null,
   "id": "366db1cb-d29d-49e7-aade-f15602a54def",
   "metadata": {},
   "outputs": [],
   "source": []
  }
 ],
 "metadata": {
  "kernelspec": {
   "display_name": "Python 3 (ipykernel)",
   "language": "python",
   "name": "python3"
  },
  "language_info": {
   "codemirror_mode": {
    "name": "ipython",
    "version": 3
   },
   "file_extension": ".py",
   "mimetype": "text/x-python",
   "name": "python",
   "nbconvert_exporter": "python",
   "pygments_lexer": "ipython3",
   "version": "3.9.5"
  }
 },
 "nbformat": 4,
 "nbformat_minor": 5
}
