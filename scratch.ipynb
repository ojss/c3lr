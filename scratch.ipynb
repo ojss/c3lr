{
 "cells": [
  {
   "cell_type": "code",
   "execution_count": null,
   "id": "0587246d-2771-4100-baf7-3de1172a938e",
   "metadata": {},
   "outputs": [],
   "source": [
    "import torch\n",
    "import torch.nn as nn\n",
    "\n",
    "from torch.utils.data import DataLoader, Dataset\n",
    "from unsupervised_meta_learning.proto_utils import CNN_4Layer\n",
    "from unsupervised_meta_learning.pl_dataloaders import UnlabelledDataModule, UnlabelledDataset"
   ]
  },
  {
   "cell_type": "code",
   "execution_count": null,
   "id": "87654abe-c54b-4eff-a827-b1feb896af0b",
   "metadata": {},
   "outputs": [],
   "source": [
    " dataset_train = UnlabelledDataset('omniglot',\n",
    "                                          './data/', split='train',\n",
    "                                          transform=None,\n",
    "                                          n_images=None,\n",
    "                                          n_classes=None,\n",
    "                                          n_support=1,\n",
    "                                          n_query=3)"
   ]
  },
  {
   "cell_type": "code",
   "execution_count": null,
   "id": "5e32faff-735d-4629-ac77-11a1259a10a8",
   "metadata": {},
   "outputs": [
    {
     "data": {
      "text/plain": [
       "torch.Size([4, 1, 28, 28])"
      ]
     },
     "execution_count": null,
     "metadata": {},
     "output_type": "execute_result"
    }
   ],
   "source": [
    "dataset_train[0]['data'].shape"
   ]
  },
  {
   "cell_type": "code",
   "execution_count": null,
   "id": "b4b50b8d-aa0b-411c-a1bb-2f2f2f087f7e",
   "metadata": {},
   "outputs": [],
   "source": [
    "dataloader_train = DataLoader(dataset_train,\n",
    "                                      batch_size=5,\n",
    "                                      shuffle=True,\n",
    "                                      num_workers=8,\n",
    "                                      pin_memory=torch.cuda.is_available())"
   ]
  },
  {
   "cell_type": "code",
   "execution_count": null,
   "id": "93032e8c-50c8-42dd-94bf-bdc9d0848488",
   "metadata": {},
   "outputs": [],
   "source": [
    "x = next(iter(dataloader_train))"
   ]
  },
  {
   "cell_type": "code",
   "execution_count": null,
   "id": "446b17a1-92d2-4a81-b97c-9aadac856b44",
   "metadata": {},
   "outputs": [],
   "source": [
    "data = x['data'] # [batch_size x ways x shots x image_dim]"
   ]
  },
  {
   "cell_type": "code",
   "execution_count": null,
   "id": "a286bb5c-c905-4180-9dbb-6fcd887317e4",
   "metadata": {},
   "outputs": [],
   "source": [
    "data = data.unsqueeze(0)"
   ]
  },
  {
   "cell_type": "code",
   "execution_count": null,
   "id": "972a4d56-2bb6-4519-a28a-f099e94a95bb",
   "metadata": {},
   "outputs": [
    {
     "data": {
      "text/plain": [
       "torch.Size([1, 5, 4, 1, 28, 28])"
      ]
     },
     "execution_count": null,
     "metadata": {},
     "output_type": "execute_result"
    }
   ],
   "source": [
    "data.shape"
   ]
  },
  {
   "cell_type": "code",
   "execution_count": null,
   "id": "0143d416-2b43-491c-a22d-5c3c51c0fe03",
   "metadata": {},
   "outputs": [],
   "source": [
    "batch_size = data.size(0)\n",
    "ways = data.size(1)"
   ]
  },
  {
   "cell_type": "code",
   "execution_count": null,
   "id": "b0ba991b-74b5-4a9e-b7bd-e1a57e3468e0",
   "metadata": {},
   "outputs": [
    {
     "data": {
      "text/plain": [
       "(1, 5)"
      ]
     },
     "execution_count": null,
     "metadata": {},
     "output_type": "execute_result"
    }
   ],
   "source": [
    "batch_size, ways"
   ]
  },
  {
   "cell_type": "code",
   "execution_count": null,
   "id": "f48d325e-4205-415a-ad32-8f7ff5611e20",
   "metadata": {},
   "outputs": [],
   "source": [
    "x_support = data[:,:,:1]"
   ]
  },
  {
   "cell_type": "code",
   "execution_count": null,
   "id": "bfdb0ac3-1754-43f0-be47-bd45aeb16e54",
   "metadata": {},
   "outputs": [],
   "source": [
    "x_support = x_support.reshape((batch_size, ways * 1, *x_support.shape[-3:])) # e.g. [1,50*n_support,*(3,84,84)]\n",
    "x_query = data[:,:, 1:]\n",
    "x_query = x_query.reshape((batch_size, ways * 3, *x_query.shape[-3:]))"
   ]
  },
  {
   "cell_type": "code",
   "execution_count": null,
   "id": "74f8ae34-cbdd-44e9-8471-05dac325f989",
   "metadata": {},
   "outputs": [
    {
     "data": {
      "text/plain": [
       "torch.Size([1, 15, 1, 28, 28])"
      ]
     },
     "execution_count": null,
     "metadata": {},
     "output_type": "execute_result"
    }
   ],
   "source": [
    "x_query.shape"
   ]
  },
  {
   "cell_type": "code",
   "execution_count": null,
   "id": "82a7f14f-b822-43bf-a7f4-a4759ade2578",
   "metadata": {},
   "outputs": [
    {
     "data": {
      "text/plain": [
       "torch.Size([1, 5, 1, 28, 28])"
      ]
     },
     "execution_count": null,
     "metadata": {},
     "output_type": "execute_result"
    }
   ],
   "source": [
    "x_support.shape"
   ]
  },
  {
   "cell_type": "code",
   "execution_count": null,
   "id": "1ecebf6c-2014-4458-9930-d72d447acdfd",
   "metadata": {},
   "outputs": [],
   "source": [
    "x = torch.cat([x_support, x_query], 1) # e.g. [1,50*(n_support+n_query),*(3,84,84)]"
   ]
  },
  {
   "cell_type": "code",
   "execution_count": null,
   "id": "70e1d203-ca16-4efa-af0b-8f93568a6e30",
   "metadata": {},
   "outputs": [],
   "source": [
    "ae = CNN_4Layer(in_channels=1)"
   ]
  },
  {
   "cell_type": "code",
   "execution_count": null,
   "id": "beb8548d-a4bf-413d-815b-1eb064df039a",
   "metadata": {},
   "outputs": [],
   "source": [
    "_, op = ae.forward(x)"
   ]
  },
  {
   "cell_type": "code",
   "execution_count": null,
   "id": "a599b6c0-e8c5-4421-ab06-d5b454ab8b5e",
   "metadata": {},
   "outputs": [
    {
     "data": {
      "text/plain": [
       "torch.Size([20, 1, 1, 1])"
      ]
     },
     "execution_count": null,
     "metadata": {},
     "output_type": "execute_result"
    }
   ],
   "source": [
    "op.shape"
   ]
  },
  {
   "cell_type": "code",
   "execution_count": null,
   "id": "88c2b4d1-7087-4086-865f-5e3ac10727c8",
   "metadata": {},
   "outputs": [],
   "source": []
  }
 ],
 "metadata": {
  "kernelspec": {
   "display_name": "Python 3 (ipykernel)",
   "language": "python",
   "name": "python3"
  }
 },
 "nbformat": 4,
 "nbformat_minor": 5
}
