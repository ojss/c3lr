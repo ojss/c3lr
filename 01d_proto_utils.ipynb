{
 "cells": [
  {
   "cell_type": "code",
   "execution_count": 1,
   "id": "69234130-ff70-4a4e-be29-c703babfe088",
   "metadata": {},
   "outputs": [],
   "source": [
    "#default_exp proto_utils\n",
    "\n",
    "# adapted from the torchmeta code\n",
    "# TODO: use this in vanilla protonet code\n",
    "import torch\n",
    "import torch.nn.functional as F"
   ]
  },
  {
   "cell_type": "code",
   "execution_count": 3,
   "id": "ee2ce0be-0edc-4d57-9d23-d6de3180cab4",
   "metadata": {},
   "outputs": [],
   "source": [
    "#export\n",
    "def euclidean_distance(x, y):\n",
    "    \"\"\"\n",
    "    x, y have shapes (batch_size, num_examples, embedding_size).\n",
    "    x is prototypes, y are embeddings in most cases\n",
    "    \"\"\"\n",
    "    return torch.sum((x.unsqueeze(2) - y.unsqueeze(1))** 2, dim=-1)"
   ]
  },
  {
   "cell_type": "code",
   "execution_count": 4,
   "id": "80e06a11-5688-4597-8ee7-6c058a7c674d",
   "metadata": {},
   "outputs": [],
   "source": [
    "#export\n",
    "\n",
    "def cosine_similarity(x, y):\n",
    "    \"\"\"x, y have shapes (batch_size, num_examples, embedding_size).\"\"\"\n",
    "    \n",
    "    # compute dot prod similarity x_i.T y_i (numerator)\n",
    "    dot_similarity = torch.bmm(x, y.permute(0, 2, 1))\n",
    "    \n",
    "    # compute l2 norms ||x_i|| * ||y_i||\n",
    "    x_norm = x.norm(p=2, dim=-1, keepdim=True)\n",
    "    y_norm = y.norm(p=2, dim=-1, keepdim=True)\n",
    "    \n",
    "    norms = torch.bmm(x, y.permute(0, 2, 1)) + 1e-8\n",
    "    \n",
    "    return dot_similarity / norms\n",
    "    "
   ]
  },
  {
   "cell_type": "code",
   "execution_count": 5,
   "id": "79195dd7-aea2-4ce0-b14d-ba86248522ea",
   "metadata": {},
   "outputs": [],
   "source": [
    "#export\n",
    "\n",
    "def get_num_samples(targets, num_classes, dtype=None):\n",
    "    batch_size = targets.size(0)\n",
    "    with torch.no_grad():\n",
    "        ones = torch.ones_like(targets, dtype=dtype)\n",
    "        num_samples = ones.new_zeros((batch_size, num_classes))\n",
    "        num_samples.scatter_add_(1, targets, ones)\n",
    "    return num_samples"
   ]
  },
  {
   "cell_type": "code",
   "execution_count": 7,
   "id": "84d6aac9-b23e-4c43-bce6-a1ae3e8fd8f1",
   "metadata": {},
   "outputs": [],
   "source": [
    "#export\n",
    "\n",
    "def get_prototypes(self, emb, targets, num_classes):\n",
    "        \"\"\"Compute the prototypes (the mean vector of the embedded training/support \n",
    "        points belonging to its class) for each classes in the task.\n",
    "        Parameters\n",
    "        ----------\n",
    "        embeddings : `torch.FloatTensor` instance\n",
    "            A tensor containing the embeddings of the support points. This tensor \n",
    "            has shape `(batch_size, num_examples, embedding_size)`.\n",
    "        targets : `torch.LongTensor` instance\n",
    "            A tensor containing the targets of the support points. This tensor has \n",
    "            shape `(batch_size, num_examples)`.\n",
    "        num_classes : int\n",
    "            Number of classes in the task.\n",
    "        Returns\n",
    "        -------\n",
    "        prototypes : `torch.FloatTensor` instance\n",
    "            A tensor containing the prototypes for each class. This tensor has shape\n",
    "            `(batch_size, num_classes, embedding_size)`.\n",
    "        \"\"\"\n",
    "\n",
    "        batch_size, emb_size = emb.size(0), emb.size(-1)\n",
    "\n",
    "        num_samples = self.get_num_samples(targets, num_classes, dtype=emb.dtype)\n",
    "        num_samples.unsqueeze_(-1)\n",
    "        num_samples = torch.max(num_samples, torch.ones_like(num_samples))\n",
    "\n",
    "        prototypes = emb.new_zeros((batch_size, num_classes, emb_size))\n",
    "        indices = targets.unsqueeze(-1).expand_as(emb)\n",
    "\n",
    "        prototypes.scatter_add_(1, indices, emb).div_(num_samples)\n",
    "\n",
    "        return prototypes"
   ]
  },
  {
   "cell_type": "code",
   "execution_count": 8,
   "id": "bb015e40-e74a-4f3e-83a4-8c14d513ea6f",
   "metadata": {},
   "outputs": [],
   "source": [
    "#export\n",
    "def prototypical_loss(prototypes, embeddings, targets, \n",
    "                      distance='euclidean', **kwargs):\n",
    "    \"\"\"Compute the loss (i.e. negative log-likelihood) for the prototypical \n",
    "    network, on the test/query points.\n",
    "\n",
    "    Parameters\n",
    "    ----------\n",
    "    prototypes : `torch.FloatTensor` instance\n",
    "        A tensor containing the prototypes for each class. This tensor has shape \n",
    "        `(batch_size, num_classes, embedding_size)`.\n",
    "\n",
    "    embeddings : `torch.FloatTensor` instance\n",
    "        A tensor containing the embeddings of the query points. This tensor has \n",
    "        shape `(batch_size, num_examples, embedding_size)`.\n",
    "\n",
    "    targets : `torch.LongTensor` instance\n",
    "        A tensor containing the targets of the query points. This tensor has \n",
    "        shape `(batch_size, num_examples)`.\n",
    "\n",
    "    distance : `String`\n",
    "        The distance measure to be used: 'eucliden' or 'cosine'\n",
    "\n",
    "    Returns\n",
    "    -------\n",
    "    loss : `torch.FloatTensor` instance\n",
    "        The negative log-likelihood on the query points.\n",
    "    accuracy : `torch.FloatTensor` instance\n",
    "        Mean accuracy on the query points.\n",
    "    \"\"\"\n",
    "    if distance == 'euclidean':\n",
    "        squared_distances = euclidean_distance(prototypes, embeddings)\n",
    "        loss = F.cross_entropy(-squared_distances, targets, **kwargs)\n",
    "        _, predictions = torch.min(squared_distances, dim=1)\n",
    "        accuracy = torch.mean(predictions.eq(targets).float())\n",
    "    elif distance == 'cosine':\n",
    "        cosine_similarities = cosine_similarity(prototypes, embeddings)\n",
    "        loss = F.cross_entropy(cosine_similarities, targets, **kwargs)\n",
    "        _, predictions = torch.max(cosine_similarities, dim=1)\n",
    "        accuracy = torch.mean(predictions.eq(targets).float())\n",
    "    else:\n",
    "        raise ValueError('Distance must be \"euclidean\" or \"cosine\"')\n",
    "    return loss, accuracy.item()"
   ]
  },
  {
   "cell_type": "code",
   "execution_count": 10,
   "id": "5dd3238f-b35b-4c97-a6ad-f8c5753dd166",
   "metadata": {},
   "outputs": [
    {
     "name": "stdout",
     "output_type": "stream",
     "text": [
      "Converted 01_nn_utils.ipynb.\n",
      "Converted 01b_data_loaders_pl.ipynb.\n",
      "Converted 01c_grad_utils.ipynb.\n",
      "Converted 01d_proto_utils.ipynb.\n",
      "Converted 02_maml_pl.ipynb.\n",
      "Converted 02b_iMAML.ipynb.\n",
      "Converted 03_protonet_pl.ipynb.\n",
      "No export destination, ignored:\n",
      "#export \n",
      "Warning: Exporting to \"None.py\" but this module is not part of this build\n",
      "Converted 03b_ProtoCLR.ipynb.\n",
      "Converted 04_cactus.ipynb.\n",
      "Converted index.ipynb.\n"
     ]
    }
   ],
   "source": [
    "from nbdev.export import notebook2script; notebook2script()"
   ]
  },
  {
   "cell_type": "code",
   "execution_count": null,
   "id": "8572e2f2-69dc-4d3b-83bb-179300956fcc",
   "metadata": {},
   "outputs": [],
   "source": []
  }
 ],
 "metadata": {
  "kernelspec": {
   "display_name": "Python 3 (ipykernel)",
   "language": "python",
   "name": "python3"
  },
  "language_info": {
   "codemirror_mode": {
    "name": "ipython",
    "version": 3
   },
   "file_extension": ".py",
   "mimetype": "text/x-python",
   "name": "python",
   "nbconvert_exporter": "python",
   "pygments_lexer": "ipython3",
   "version": "3.9.5"
  }
 },
 "nbformat": 4,
 "nbformat_minor": 5
}
