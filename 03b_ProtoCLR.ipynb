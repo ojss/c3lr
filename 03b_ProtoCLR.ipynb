{
 "cells": [
  {
   "cell_type": "code",
   "execution_count": 1,
   "id": "17ff22e7-e8e5-4bcc-93f0-c037198a09aa",
   "metadata": {},
   "outputs": [
    {
     "name": "stderr",
     "output_type": "stream",
     "text": [
      "/home/ojas/anaconda3/envs/ai/lib/python3.9/site-packages/pytorch_lightning/metrics/__init__.py:43: LightningDeprecationWarning: `pytorch_lightning.metrics.*` module has been renamed to `torchmetrics.*` and split off to its own package (https://github.com/PyTorchLightning/metrics) since v1.3 and will be removed in v1.5\n",
      "  rank_zero_deprecation(\n"
     ]
    }
   ],
   "source": [
    "#default_exp protoclr\n",
    "import torch\n",
    "import torch.nn as nn\n",
    "\n",
    "import pytorch_lightning as pl\n",
    "from pytorch_lightning.loggers import WandbLogger\n",
    "from unsupervised_meta_learning.proto_utils import prototypical_loss, get_prototypes"
   ]
  },
  {
   "cell_type": "code",
   "execution_count": 2,
   "id": "dae1abf5-95bb-4ab5-a235-f12b407fff8b",
   "metadata": {},
   "outputs": [],
   "source": [
    "#export\n",
    "\n",
    "class ProtoCLR(pl.LightningModule):\n",
    "    \n",
    "    def __init__(self, encoder, n_support, n_query, lr_decay_step, lr_decay_rate,  lr=1e-3, distance='euclidean'):\n",
    "        super().__init__()\n",
    "        self.encoder = encoder\n",
    "        self.n_support = n_support\n",
    "        self.n_query = n_query\n",
    "        \n",
    "        self.distance = distance\n",
    "        \n",
    "        self.lr = lr\n",
    "        self.lr_decay_rate = lr_decay_rate\n",
    "        self.lr_decay_step = lr_decay_step\n",
    "        \n",
    "        self.automatic_optimization = False\n",
    "    \n",
    "    def configure_optimizers(self):\n",
    "        opt = torch.optim.Adam(self.encoder.parameters(), lr=self.lr)\n",
    "        sch = torch.optim.lr_scheduler.StepLR(opt, step_size=self.lr_decay_step, gamma=self.lr_decay_rate)\n",
    "        return opt, sch\n",
    "    \n",
    "    def training_step(self, batch, batch_idx):\n",
    "        opt = self.optimizers()\n",
    "        sch = self.lr_schedulers()\n",
    "        \n",
    "        opt.zero_grad()\n",
    "        \n",
    "        # Treat the first dim as way, the second as shots\n",
    "        # and use the first shot as support (like 1-shot setting)\n",
    "        # the remaining shots as query\n",
    "        data = batch['data'].to(self.device) # [batch_size x ways x shots x image_dim]\n",
    "        data = data.unsqueeze(0)\n",
    "        # e.g. 50 images, 2 support, 2 query, miniImageNet: torch.Size([1, 50, 4, 3, 84, 84])\n",
    "        batch_size = data.size(0)\n",
    "        ways = data.size(1)\n",
    "        \n",
    "        # Divide into support and query shots \n",
    "        x_support = data[:,:,:self.n_support]\n",
    "        x_support = x_support.reshape((batch_size, ways * self.n_support, *x_support.shape[-3:])) # e.g. [1,50*n_support,*(3,84,84)]\n",
    "        x_query = data[:,:,self.n_support:]\n",
    "        x_query = x_query.reshape((batch_size, ways * self.n_query, *x_query.shape[-3:])) # e.g. [1,50*n_query,*(3,84,84)]\n",
    "        \n",
    "        # Create dummy query labels\n",
    "        y_query = torch.arange(ways).unsqueeze(0).unsqueeze(2) # batch and shot dim\n",
    "        y_query = y_query.repeat(batch_size, 1, self.n_query)\n",
    "        y_query = y_query.view(batch_size, -1).to(self.device)\n",
    "        \n",
    "        y_support = torch.arange(ways).unsqueeze(0).unsqueeze(2) # batch and shot dim\n",
    "        y_support = y_support.repeat(batch_size, 1, self.n_support)\n",
    "        y_support = y_support.view(batch_size, -1).to(self.device)\n",
    "        \n",
    "        # Extract features (first dim is batch dim)\n",
    "        x = torch.cat([x_support, x_query], 1) # e.g. [1,50*(n_support+n_query),*(3,84,84)]\n",
    "        z = self.encoder.forward(x)\n",
    "        z_support = z[:,:ways * self.n_support] # e.g. [1,50*n_support,*(3,84,84)]\n",
    "        z_query = z[:,ways * self.n_support:] # e.g. [1,50*n_query,*(3,84,84)]\n",
    "        \n",
    "        # Get prototypes\n",
    "        if self.n_support == 1:\n",
    "            z_proto = z_support # in 1-shot the prototypes are the support samples\n",
    "        else:\n",
    "            z_proto = get_prototypes(z_support, y_support, ways)\n",
    "            \n",
    "        loss, accuracy = prototypical_loss(z_proto, z_query, y_query,\n",
    "                                           distance=self.distance)\n",
    "        \n",
    "        self.manual_backward(loss)\n",
    "        opt.step()\n",
    "        sch.step()\n",
    "        \n",
    "        self.log_dict({\n",
    "            'loss': loss.item(),\n",
    "            'train_accuracy': accuracy.item()\n",
    "        })\n",
    "        \n",
    "        return loss, accuracy\n",
    "        \n",
    "    "
   ]
  },
  {
   "cell_type": "code",
   "execution_count": null,
   "id": "555c9b24-b3ef-4392-9264-db153e74edf2",
   "metadata": {},
   "outputs": [],
   "source": []
  }
 ],
 "metadata": {
  "kernelspec": {
   "display_name": "Python 3 (ipykernel)",
   "language": "python",
   "name": "python3"
  },
  "language_info": {
   "codemirror_mode": {
    "name": "ipython",
    "version": 3
   },
   "file_extension": ".py",
   "mimetype": "text/x-python",
   "name": "python",
   "nbconvert_exporter": "python",
   "pygments_lexer": "ipython3",
   "version": "3.9.5"
  }
 },
 "nbformat": 4,
 "nbformat_minor": 5
}
